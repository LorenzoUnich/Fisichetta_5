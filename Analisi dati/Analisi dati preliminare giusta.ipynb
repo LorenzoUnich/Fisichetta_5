{
 "cells": [
  {
   "cell_type": "code",
   "execution_count": 111,
   "id": "5f2cbf1b",
   "metadata": {},
   "outputs": [],
   "source": [
    "import numpy as np\n",
    "import matplotlib.pyplot as plt\n",
    "from scipy.optimize import curve_fit\n",
    "import pandas as pd \n"
   ]
  },
  {
   "cell_type": "code",
   "execution_count": 112,
   "id": "ececf429",
   "metadata": {},
   "outputs": [],
   "source": [
    "def exp(x,a,b,c):\n",
    "    return np.exp(-x/b)*a+c\n",
    "def frontselect(lista, fronte=0):\n",
    "    result = []\n",
    "    for i in lista:\n",
    "        if i[2]==fronte:\n",
    "            result.append(i)\n",
    "    return result\n",
    "def convtime(x, a=1.041, b= 130):\n",
    "    return a*x+b"
   ]
  },
  {
   "cell_type": "markdown",
   "id": "76565fc9",
   "metadata": {},
   "source": [
    "0 leading\n",
    "1 trailing"
   ]
  },
  {
   "cell_type": "code",
   "execution_count": 113,
   "id": "3c8b4d7c",
   "metadata": {},
   "outputs": [],
   "source": [
    "df = pd.DataFrame(columns= [\"Canale 0\",\"Canale 3\",\"Canale 4\",\"Canale 6\",\"Canale 8\" ])\n",
    "fname = r\"C:\\Users\\Lorenzo\\Desktop\\lab 5\\acquisizione dati 3\\prima presa dati.txt\"\n",
    "file = open(fname, \"r\")\n",
    "n = 0\n",
    "q = 0\n",
    "col = 0\n",
    "car = 0\n",
    "locdict = {}\n",
    "events = []\n",
    "for f in file: \n",
    "    #print(f)\n",
    "    #print(df)\n",
    "    if q ==4:#parte di programma che mette il dizionario nella lista\n",
    "        k = locdict.keys()\n",
    "        for h in k:\n",
    "            lista = locdict[h]\n",
    "            lista_int= [int(y) for y in lista]\n",
    "            events.append(lista_int)\n",
    "        #for nr in k: ci ho un po' provato a mettere nel dataframe, senza successo. Per ora ci basta pensare alla lista\n",
    "            \n",
    "           # try:\n",
    "           #     print(\"GOING\")\n",
    "           #     print(locdict[nr])\n",
    "           #     print(df)\n",
    "           #     df.loc[len(df), \"event\"+str(nr)] = locdict[nr]\n",
    "           # except KeyError:\n",
    "           #     print(\"AIUTO\")\n",
    "           #     cose = [np.nan for i in range(len(df.index))]\n",
    "           #     toadd = cose+locdict[nr]\n",
    "           #     title = \"event \"+str(nr)\n",
    "           #     df[title] = toadd\n",
    "                \n",
    "        locdict = {}\n",
    "        q = 0\n",
    "        col =0\n",
    "    for i in range(len(f)):\n",
    "        #print(locdict)\n",
    "        #print(\"f_i=\"+str(f[i]))\n",
    "        #print(\"col=\"+str(col))\n",
    "        #print(\"car=\"+str(car))\n",
    "        #print(\"q\"+str(q))\n",
    "        if f[i] == \"\\n\":\n",
    "            q+=1\n",
    "            col = 0\n",
    "            car = 0            \n",
    "            n+=1\n",
    "            break\n",
    "        elif f[i] == \"\\t\":\n",
    "            col += 1\n",
    "            car =0 \n",
    "        else:\n",
    "            if car ==0 and q == 0:\n",
    "                locdict[col]=[f[i]]\n",
    "                car= 1\n",
    "            elif car ==0:\n",
    "                locdict[col].append(f[i])\n",
    "                car +=1\n",
    "            else:\n",
    "                #print(locdict)\n",
    "                locdict[col][q]+=f[i]\n",
    "                car+=1\n",
    "                \n",
    "                \n",
    "            \n",
    "\n",
    "file.close()\n"
   ]
  },
  {
   "cell_type": "code",
   "execution_count": 114,
   "id": "30848107",
   "metadata": {
    "scrolled": true
   },
   "outputs": [],
   "source": [
    "\n",
    "dict_tot= {}\n",
    "for ev in events:\n",
    "    ev[3]= convtime(ev[3])\n",
    "    if ev[1] not in dict_tot.keys():\n",
    "        dict_tot[ev[1]]= [ev]\n",
    "    else:\n",
    "        dict_tot[ev[1]].append(ev)"
   ]
  },
  {
   "cell_type": "markdown",
   "id": "52118910",
   "metadata": {},
   "source": [
    "## Legenda per i vari canali\n",
    "* 0 Up\n",
    "* 3 CsI\n",
    "* 4 Down\n",
    "* 6 Coincidenza (110)\n",
    "* 8 Coincidenza (01X)"
   ]
  },
  {
   "cell_type": "markdown",
   "id": "5fa33a91",
   "metadata": {},
   "source": [
    "## Scintillatore up"
   ]
  },
  {
   "cell_type": "markdown",
   "id": "aed904b5",
   "metadata": {},
   "source": [
    "leading\n"
   ]
  },
  {
   "cell_type": "code",
   "execution_count": 126,
   "id": "cd512d71",
   "metadata": {},
   "outputs": [],
   "source": [
    "times_all=[]\n",
    "for i in dict_tot.keys():\n",
    "    for j in dict_tot[i]:\n",
    "        times_all.append(j[3])"
   ]
  },
  {
   "cell_type": "code",
   "execution_count": 127,
   "id": "5480deaf",
   "metadata": {
    "scrolled": true
   },
   "outputs": [
    {
     "data": {
      "image/png": "[encoded data removed]",
      "text/plain": [
       "<Figure size 960x720 with 1 Axes>"
      ]
     },
     "metadata": {
      "needs_background": "light"
     },
     "output_type": "display_data"
    }
   ],
   "source": [
    "plt.figure(figsize=(8,6), dpi = 120)\n",
    "plt.yscale(\"log\")\n",
    "plt.xlabel(\"Tempo ($ms$)\", fontsize = 15)\n",
    "plt.ylabel(\"Occorrenze\", fontsize = 15)\n",
    "plt.xticks(fontsize = 12)\n",
    "plt.yticks(fontsize = 12)\n",
    "up_0 = frontselect(dict_tot[0],0)\n",
    "up0_t = [i[3] for i in up_0]\n",
    "plt.title(\"Occorrenze del fronte leading, per il segnale up\", fontsize = 16)\n",
    "yup0,xup0, oup0 = plt.hist(up0_t, bins =80)\n"
   ]
  },
  {
   "cell_type": "code",
   "execution_count": 129,
   "id": "8642497e",
   "metadata": {
    "scrolled": true
   },
   "outputs": [
    {
     "data": {
      "text/plain": [
       "array([  186.214  ,   611.30635,  1036.3987 ,  1461.49105,  1886.5834 ,\n",
       "        2311.67575,  2736.7681 ,  3161.86045,  3586.9528 ,  4012.04515,\n",
       "        4437.1375 ,  4862.22985,  5287.3222 ,  5712.41455,  6137.5069 ,\n",
       "        6562.59925,  6987.6916 ,  7412.78395,  7837.8763 ,  8262.96865,\n",
       "        8688.061  ,  9113.15335,  9538.2457 ,  9963.33805, 10388.4304 ,\n",
       "       10813.52275, 11238.6151 , 11663.70745, 12088.7998 , 12513.89215,\n",
       "       12938.9845 , 13364.07685, 13789.1692 , 14214.26155, 14639.3539 ,\n",
       "       15064.44625, 15489.5386 , 15914.63095, 16339.7233 , 16764.81565,\n",
       "       17189.908  , 17615.00035, 18040.0927 , 18465.18505, 18890.2774 ,\n",
       "       19315.36975, 19740.4621 , 20165.55445, 20590.6468 , 21015.73915,\n",
       "       21440.8315 , 21865.92385, 22291.0162 , 22716.10855, 23141.2009 ,\n",
       "       23566.29325, 23991.3856 , 24416.47795, 24841.5703 , 25266.66265,\n",
       "       25691.755  , 26116.84735, 26541.9397 , 26967.03205, 27392.1244 ,\n",
       "       27817.21675, 28242.3091 , 28667.40145, 29092.4938 , 29517.58615,\n",
       "       29942.6785 , 30367.77085, 30792.8632 , 31217.95555, 31643.0479 ,\n",
       "       32068.14025, 32493.2326 , 32918.32495, 33343.4173 , 33768.50965,\n",
       "       34193.602  ])"
      ]
     },
     "execution_count": 129,
     "metadata": {},
     "output_type": "execute_result"
    }
   ],
   "source": [
    "xup0"
   ]
  },
  {
   "cell_type": "code",
   "execution_count": 133,
   "id": "d5d3b3ed",
   "metadata": {
    "scrolled": true
   },
   "outputs": [],
   "source": [
    "lim = 10000\n",
    "yup0_sel =[]\n",
    "for i in up0_t:\n",
    "    if i<lim:\n",
    "        yup0_sel.append(i)"
   ]
  },
  {
   "cell_type": "code",
   "execution_count": 134,
   "id": "e6858f1d",
   "metadata": {
    "scrolled": true
   },
   "outputs": [
    {
     "data": {
      "text/plain": [
       "Text(0.5, 1.0, 'Occorrenze del fronte leading, per il segnale up (<10000 ms)')"
      ]
     },
     "execution_count": 134,
     "metadata": {},
     "output_type": "execute_result"
    },
    {
     "data": {
      "image/png": "[encoded data removed]",
      "text/plain": [
       "<Figure size 960x720 with 1 Axes>"
      ]
     },
     "metadata": {
      "needs_background": "light"
     },
     "output_type": "display_data"
    }
   ],
   "source": [
    "plt.figure(figsize=(8,6), dpi = 120)\n",
    "plt.xlabel(\"Tempo ($ms$)\", fontsize = 15)\n",
    "plt.ylabel(\"Occorrenze\", fontsize = 15)\n",
    "plt.xticks(fontsize = 12)\n",
    "plt.yticks(fontsize = 12)\n",
    "yselup0, xselup0, qqqqq = plt.hist(yup0_sel, bins = 60)\n",
    "plt.title(\"Occorrenze del fronte leading, per il segnale up (<\"+str(lim)+\" ms)\", fontsize = 15)\n"
   ]
  },
  {
   "cell_type": "code",
   "execution_count": 136,
   "id": "b08ef7e9",
   "metadata": {
    "scrolled": true
   },
   "outputs": [
    {
     "data": {
      "text/plain": [
       "0.8512833209540315"
      ]
     },
     "execution_count": 136,
     "metadata": {},
     "output_type": "execute_result"
    }
   ],
   "source": [
    "sum(yselup0)/sum(yup0)"
   ]
  },
  {
   "cell_type": "markdown",
   "id": "67b62fb0",
   "metadata": {},
   "source": [
    "trailing\n"
   ]
  },
  {
   "cell_type": "code",
   "execution_count": 137,
   "id": "ec62b765",
   "metadata": {},
   "outputs": [],
   "source": [
    "times_all=[]\n",
    "for i in dict_tot.keys():\n",
    "    for j in dict_tot[i]:\n",
    "        times_all.append(j[3])"
   ]
  },
  {
   "cell_type": "code",
   "execution_count": 138,
   "id": "2e842e18",
   "metadata": {
    "scrolled": true
   },
   "outputs": [
    {
     "data": {
      "image/png": "[encoded data removed]",
      "text/plain": [
       "<Figure size 960x720 with 1 Axes>"
      ]
     },
     "metadata": {
      "needs_background": "light"
     },
     "output_type": "display_data"
    }
   ],
   "source": [
    "plt.figure(figsize=(8,6), dpi = 120)\n",
    "plt.yscale(\"log\")\n",
    "plt.xlabel(\"Tempo ($ms$)\", fontsize = 15)\n",
    "plt.ylabel(\"Occorrenze\", fontsize = 15)\n",
    "plt.xticks(fontsize = 12)\n",
    "plt.yticks(fontsize = 12)\n",
    "up_1 = frontselect(dict_tot[0],1)\n",
    "up1_t = [i[3] for i in up_1]\n",
    "plt.title(\"Occorrenze del fronte trailing, per il segnale up\", fontsize = 16)\n",
    "yup1,xup1, oup1 = plt.hist(up1_t, bins =80)\n"
   ]
  },
  {
   "cell_type": "code",
   "execution_count": 142,
   "id": "4124f17b",
   "metadata": {
    "scrolled": true
   },
   "outputs": [],
   "source": [
    "lim = 600\n",
    "yup1_sel =[]\n",
    "for i in up1_t:\n",
    "    if i<lim:\n",
    "        yup1_sel.append(i)"
   ]
  },
  {
   "cell_type": "code",
   "execution_count": 143,
   "id": "fb622f5f",
   "metadata": {
    "scrolled": true
   },
   "outputs": [
    {
     "data": {
      "text/plain": [
       "Text(0.5, 1.0, 'Occorrenze del fronte trailing, per il segnale up (<600 ms)')"
      ]
     },
     "execution_count": 143,
     "metadata": {},
     "output_type": "execute_result"
    },
    {
     "data": {
      "image/png": "[encoded data removed]",
      "text/plain": [
       "<Figure size 960x720 with 1 Axes>"
      ]
     },
     "metadata": {
      "needs_background": "light"
     },
     "output_type": "display_data"
    }
   ],
   "source": [
    "plt.figure(figsize=(8,6), dpi = 120)\n",
    "plt.xlabel(\"Tempo ($ms$)\", fontsize = 15)\n",
    "plt.ylabel(\"Occorrenze\", fontsize = 15)\n",
    "plt.xticks(fontsize = 12)\n",
    "plt.yticks(fontsize = 12)\n",
    "yselup1, xselup1, qqqqq1 = plt.hist(yup1_sel, bins = 60)\n",
    "plt.title(\"Occorrenze del fronte trailing, per il segnale up (<\"+str(lim)+\" ms)\", fontsize = 15)\n"
   ]
  },
  {
   "cell_type": "code",
   "execution_count": 144,
   "id": "69e4680b",
   "metadata": {
    "scrolled": true
   },
   "outputs": [
    {
     "data": {
      "text/plain": [
       "0.9512747549352946"
      ]
     },
     "execution_count": 144,
     "metadata": {},
     "output_type": "execute_result"
    }
   ],
   "source": [
    "sum(yselup1)/sum(yup1)"
   ]
  },
  {
   "cell_type": "markdown",
   "id": "b2362007",
   "metadata": {},
   "source": [
    "## Analisi CSI\n"
   ]
  },
  {
   "cell_type": "code",
   "execution_count": 191,
   "id": "c2aabe4f",
   "metadata": {
    "scrolled": true
   },
   "outputs": [
    {
     "data": {
      "text/plain": [
       "Text(0.5, 1.0, 'Occorrenze del fronte leading, per il segnale CsI ')"
      ]
     },
     "execution_count": 191,
     "metadata": {},
     "output_type": "execute_result"
    },
    {
     "data": {
      "image/png": "[encoded data removed]",
      "text/plain": [
       "<Figure size 1600x1300 with 1 Axes>"
      ]
     },
     "metadata": {
      "needs_background": "light"
     },
     "output_type": "display_data"
    }
   ],
   "source": [
    "plt.figure(figsize=(8,6.5), dpi = 200)\n",
    "csi = frontselect([i for i in dict_tot[3]],0)\n",
    "plt.xlabel(\"Tempo ($ms$)\", fontsize = 15)\n",
    "plt.ylabel(\"Occorrenze\", fontsize = 15)\n",
    "ycsi,xcsi, ocsi = plt.hist([i[3] for i in csi], bins =120, color = \"darkorange\")\n",
    "plt.yscale(\"log\")\n",
    "plt.title(\"Occorrenze del fronte leading, per il segnale CsI \", fontsize = 15)\n",
    "\n"
   ]
  },
  {
   "cell_type": "markdown",
   "id": "537b27e1",
   "metadata": {},
   "source": [
    "Adesso seleziono solo i csi sotto i 10, e vediamo quanto rappresentano del totale\n"
   ]
  },
  {
   "cell_type": "code",
   "execution_count": 192,
   "id": "d97c1cd4",
   "metadata": {
    "scrolled": false
   },
   "outputs": [
    {
     "data": {
      "text/plain": [
       "1277.0680695525473"
      ]
     },
     "execution_count": 192,
     "metadata": {},
     "output_type": "execute_result"
    },
    {
     "data": {
      "image/png": "[encoded data removed]",
      "text/plain": [
       "<Figure size 1200x900 with 1 Axes>"
      ]
     },
     "metadata": {
      "needs_background": "light"
     },
     "output_type": "display_data"
    }
   ],
   "source": [
    "csi_selected = []\n",
    "lim = 5000\n",
    "for i in csi:\n",
    "    if i[3]<lim:\n",
    "        csi_selected.append(i[3])\n",
    "plt.figure(figsize=(8,6), dpi = 150)\n",
    "csisy, csix, otcsh= plt.hist(csi_selected, color = \"darkorange\", bins = 100)\n",
    "plt.xlabel(\"Tempo ($ms$)\", fontsize = 15)\n",
    "plt.ylabel(\"Occorrenze\", fontsize = 15)\n",
    "plt.title(\"Occorrenze del fronte leading, per il segnale CsI (<\"+str(lim)+\" $ns$)\", fontsize = 15)\n",
    "\n",
    "np.std(csi_selected)"
   ]
  },
  {
   "cell_type": "code",
   "execution_count": 190,
   "id": "75ae2099",
   "metadata": {
    "scrolled": true
   },
   "outputs": [
    {
     "data": {
      "text/plain": [
       "0.8701914311759343"
      ]
     },
     "execution_count": 190,
     "metadata": {},
     "output_type": "execute_result"
    }
   ],
   "source": [
    "sum(csisy)/sum(ycsi)"
   ]
  },
  {
   "cell_type": "markdown",
   "id": "853531a9",
   "metadata": {},
   "source": [
    "Insomma il 99% degli eventi è sotto i 10. "
   ]
  },
  {
   "cell_type": "markdown",
   "id": "18ccb0de",
   "metadata": {},
   "source": [
    "## Down scint"
   ]
  },
  {
   "cell_type": "code",
   "execution_count": 229,
   "id": "f1762fbc",
   "metadata": {},
   "outputs": [
    {
     "data": {
      "image/png": "[encoded data removed]",
      "text/plain": [
       "<Figure size 1440x1080 with 1 Axes>"
      ]
     },
     "metadata": {
      "needs_background": "light"
     },
     "output_type": "display_data"
    }
   ],
   "source": [
    "plt.figure(figsize=(8,6), dpi = 180)\n",
    "downs= frontselect([i for i in dict_tot[4]],1)\n",
    "\n",
    "ydw,xdw, odw = plt.hist([i[3] for i in downs], bins =100, color = \"green\")\n",
    "plt.title(\"Occorrenze del fronte trailing, per il segnale Down \", fontsize = 15)\n",
    "\n",
    "plt.yscale(\"log\")\n",
    "plt.xlabel(\"Tempo ($ms$)\", fontsize = 15)\n",
    "plt.ylabel(\"Occorrenze\", fontsize = 15)\n",
    "plt.xticks(fontsize = 12)\n",
    "plt.yticks(fontsize = 12)\n",
    "plt.show()"
   ]
  },
  {
   "cell_type": "code",
   "execution_count": 230,
   "id": "e2f1cddf",
   "metadata": {
    "scrolled": true
   },
   "outputs": [
    {
     "data": {
      "text/plain": [
       "Text(0.5, 1.0, 'Occorrenze del fronte trailing, per il segnale Down (<10000 $ns$)')"
      ]
     },
     "execution_count": 230,
     "metadata": {},
     "output_type": "execute_result"
    },
    {
     "data": {
      "image/png": "[encoded data removed]",
      "text/plain": [
       "<Figure size 1200x900 with 1 Axes>"
      ]
     },
     "metadata": {
      "needs_background": "light"
     },
     "output_type": "display_data"
    }
   ],
   "source": [
    "dw_selected = []\n",
    "lim = 10000\n",
    "for i in downs:\n",
    "    if i[3]<lim:\n",
    "        dw_selected.append(i[3])\n",
    "plt.figure(figsize=(8,6), dpi = 150)\n",
    "dwsy, dwx, otcsh= plt.hist(dw_selected, color = \"green\", bins = 100)\n",
    "plt.xlabel(\"Tempo ($ms$)\", fontsize = 15)\n",
    "plt.ylabel(\"Occorrenze\", fontsize = 15)\n",
    "plt.title(\"Occorrenze del fronte trailing, per il segnale Down (<\"+str(lim)+\" $ns$)\", fontsize = 15)\n"
   ]
  },
  {
   "cell_type": "code",
   "execution_count": 231,
   "id": "21e6e83d",
   "metadata": {},
   "outputs": [
    {
     "data": {
      "text/plain": [
       "0.652055857253685"
      ]
     },
     "execution_count": 231,
     "metadata": {},
     "output_type": "execute_result"
    }
   ],
   "source": [
    "sum(dwsy)/sum(ydw)"
   ]
  },
  {
   "cell_type": "markdown",
   "id": "1db97dc1",
   "metadata": {
    "scrolled": true
   },
   "source": [
    "##### ydw,xdw, odw = plt.hist([i[3] for i in dict_tot[4]], bins =80)\n",
    "paramsd, covd = curve_fit(f = exp,xdata = xdw[0:(len(xdw)-1)],ydata = ydw, p0 = (70,2000,0))\n",
    "modeld = [exp(i, *paramsd) for i in xdw]\n",
    "plt.plot(xdw, modeld)"
   ]
  },
  {
   "cell_type": "code",
   "execution_count": 202,
   "id": "c440cc07",
   "metadata": {},
   "outputs": [
    {
     "data": {
      "text/plain": [
       "array([10226.32644682,  1224.54653851,   412.45393541])"
      ]
     },
     "execution_count": 202,
     "metadata": {},
     "output_type": "execute_result"
    }
   ],
   "source": [
    "paramsd"
   ]
  },
  {
   "cell_type": "markdown",
   "id": "0e0439a0",
   "metadata": {},
   "source": [
    "## Analisi delle coincidenze"
   ]
  },
  {
   "cell_type": "code",
   "execution_count": 204,
   "id": "1600b93f",
   "metadata": {
    "scrolled": false
   },
   "outputs": [
    {
     "data": {
      "image/png": "[encoded data removed]",
      "text/plain": [
       "<Figure size 500x300 with 1 Axes>"
      ]
     },
     "metadata": {
      "needs_background": "light"
     },
     "output_type": "display_data"
    }
   ],
   "source": [
    "\n",
    "plt.figure(figsize=(5,3), dpi = 100)\n",
    "coinc_100 = []\n",
    "for i in dict_tot[6]:\n",
    "    if i[2]==0:\n",
    "       coinc_100.append \n",
    "plt.yscale(\"log\")\n",
    "y6,x6, o6 = plt.hist([i[3] for i in dict_tot[6]], bins = 50)\n",
    "params6, cov6 = curve_fit(f = exp,xdata = x6[0:(len(x6)-1)],ydata = y6, p0 = (70,2000,0))\n"
   ]
  },
  {
   "cell_type": "code",
   "execution_count": 155,
   "id": "9790ea33",
   "metadata": {},
   "outputs": [
    {
     "data": {
      "text/plain": [
       "array([13.,  5.,  0.,  0.,  0.,  2.,  0.,  0.,  0.,  1.,  1.,  0.,  0.,\n",
       "        0.,  1.,  1.,  0.,  0.,  0.,  0.,  0.,  0.,  0.,  0.,  0.,  0.,\n",
       "        0.,  0.,  0.,  1.,  1.,  0.,  0.,  0.,  0.,  2.,  0.,  0.,  0.,\n",
       "        0.,  0.,  0.,  2.,  0.,  0.,  0.,  0.,  0.,  0.,  2.])"
      ]
     },
     "execution_count": 155,
     "metadata": {},
     "output_type": "execute_result"
    }
   ],
   "source": [
    "y6"
   ]
  },
  {
   "cell_type": "code",
   "execution_count": 156,
   "id": "19fdfe51",
   "metadata": {
    "scrolled": false
   },
   "outputs": [
    {
     "data": {
      "image/png": "[encoded data removed]",
      "text/plain": [
       "<Figure size 500x300 with 1 Axes>"
      ]
     },
     "metadata": {
      "needs_background": "light"
     },
     "output_type": "display_data"
    }
   ],
   "source": [
    "plt.figure(figsize=(5,3), dpi = 100)\n",
    "ys, xs , other= plt.hist([i[3] for i in dict_tot[8]], bins = 60)\n",
    "params, cov = curve_fit(f = exp,xdata = xs[0:(len(xs)-1)],ydata = ys, p0 = (70,2000,0))\n",
    "model = [exp(i, *params) for i in xs]"
   ]
  },
  {
   "cell_type": "markdown",
   "id": "4c1b52d3",
   "metadata": {},
   "source": [
    "### 01X\n"
   ]
  },
  {
   "cell_type": "code",
   "execution_count": 157,
   "id": "9d0969c7",
   "metadata": {},
   "outputs": [],
   "source": [
    "canale_8 =[]\n",
    "for i in dict_tot[8]:\n",
    "    if i[2] ==0:\n",
    "        canale_8.append(i[3])"
   ]
  },
  {
   "cell_type": "code",
   "execution_count": 158,
   "id": "74c55bda",
   "metadata": {},
   "outputs": [
    {
     "data": {
      "text/plain": [
       "[<matplotlib.lines.Line2D at 0x1e2b7e8aee0>]"
      ]
     },
     "execution_count": 158,
     "metadata": {},
     "output_type": "execute_result"
    },
    {
     "data": {
      "image/png": "[encoded data removed]",
      "text/plain": [
       "<Figure size 500x300 with 1 Axes>"
      ]
     },
     "metadata": {
      "needs_background": "light"
     },
     "output_type": "display_data"
    }
   ],
   "source": [
    "plt.figure(figsize=(5,3), dpi = 100)\n",
    "ys, xs , other= plt.hist(canale_8, bins = 60)\n",
    "params, cov = curve_fit(f = exp,xdata = xs[0:60],ydata = ys, p0 = (70,2000,0))\n",
    "model = [exp(i, *params) for i in xs]\n",
    "\n",
    "plt.plot(xs,model)"
   ]
  },
  {
   "cell_type": "code",
   "execution_count": 159,
   "id": "a36a4c16",
   "metadata": {},
   "outputs": [
    {
     "data": {
      "text/plain": [
       "array([4.23248500e+01, 1.88834632e+03, 1.39525898e-01])"
      ]
     },
     "execution_count": 159,
     "metadata": {},
     "output_type": "execute_result"
    }
   ],
   "source": [
    "params"
   ]
  },
  {
   "cell_type": "code",
   "execution_count": 160,
   "id": "c7b7f41f",
   "metadata": {},
   "outputs": [
    {
     "data": {
      "text/plain": [
       "array([[ 2.28401002e+00, -9.44921866e+01, -3.01176388e-02],\n",
       "       [-9.44921866e+01,  1.35165533e+04, -1.20270649e+01],\n",
       "       [-3.01176388e-02, -1.20270649e+01,  7.51243874e-02]])"
      ]
     },
     "execution_count": 160,
     "metadata": {},
     "output_type": "execute_result"
    }
   ],
   "source": [
    "cov"
   ]
  },
  {
   "cell_type": "code",
   "execution_count": 163,
   "id": "27b7cee5",
   "metadata": {},
   "outputs": [
    {
     "name": "stdout",
     "output_type": "stream",
     "text": [
      "2366\n",
      "4593\n",
      "5352\n",
      "6333\n",
      "9815\n",
      "10015\n",
      "12264\n",
      "13457\n",
      "17022\n",
      "17650\n",
      "18426\n",
      "19514\n",
      "21442\n",
      "26583\n",
      "26998\n",
      "27246\n"
     ]
    }
   ],
   "source": [
    "coinc_01x =frontselect(dict_tot[8])\n",
    "dw_s = frontselect(dict_tot[4])\n",
    "nevents_down = [i[0] for i in dw_s]\n",
    "coinc_010 =[]\n",
    "coinc_011 = []\n",
    "for i in coinc_01x:\n",
    "    if i[0] in nevents_down:\n",
    "        print(i[0])\n",
    "        coinc_011.append(i)\n",
    "    else:\n",
    "        coinc_010.append(i)"
   ]
  },
  {
   "cell_type": "code",
   "execution_count": 164,
   "id": "ba2f1e71",
   "metadata": {},
   "outputs": [
    {
     "data": {
      "text/plain": [
       "[[32, 4, 0, 6612],\n",
       " [34, 4, 0, 29683],\n",
       " [52, 4, 0, 17865],\n",
       " [58, 4, 0, 1595],\n",
       " [69, 4, 0, 351],\n",
       " [69, 4, 0, 1218],\n",
       " [95, 4, 0, 22393],\n",
       " [143, 4, 0, 30256],\n",
       " [160, 4, 0, 22798],\n",
       " [174, 4, 0, 75],\n",
       " [183, 4, 0, 4379],\n",
       " [202, 4, 0, 224],\n",
       " [227, 4, 0, 28083],\n",
       " [229, 4, 0, 2889],\n",
       " [266, 4, 0, 412],\n",
       " [285, 4, 0, 3648],\n",
       " [319, 4, 0, 291],\n",
       " [380, 4, 0, 27121],\n",
       " [382, 4, 0, 3585],\n",
       " [410, 4, 0, 1545],\n",
       " [422, 4, 0, 17787],\n",
       " [426, 4, 0, 10840],\n",
       " [468, 4, 0, 15200],\n",
       " [492, 4, 0, 1517],\n",
       " [506, 4, 0, 956],\n",
       " [519, 4, 0, 16391],\n",
       " [537, 4, 0, 17409],\n",
       " [544, 4, 0, 6324],\n",
       " [571, 4, 0, 4026],\n",
       " [591, 4, 0, 7499],\n",
       " [595, 4, 0, 26257],\n",
       " [627, 4, 0, 5579],\n",
       " [628, 4, 0, 2593],\n",
       " [629, 4, 0, 12532],\n",
       " [635, 4, 0, 2672],\n",
       " [648, 4, 0, 11973],\n",
       " [649, 4, 0, 18128],\n",
       " [650, 4, 0, 31810],\n",
       " [671, 4, 0, 13290],\n",
       " [681, 4, 0, 561],\n",
       " [693, 4, 0, 17375],\n",
       " [730, 4, 0, 32254],\n",
       " [757, 4, 0, 1390],\n",
       " [781, 4, 0, 389],\n",
       " [790, 4, 0, 5725],\n",
       " [793, 4, 0, 31528],\n",
       " [801, 4, 0, 5037],\n",
       " [820, 4, 0, 1252],\n",
       " [827, 4, 0, 591],\n",
       " [838, 4, 0, 109],\n",
       " [840, 4, 0, 1951],\n",
       " [845, 4, 0, 1697],\n",
       " [872, 4, 0, 31274],\n",
       " [877, 4, 0, 623],\n",
       " [900, 4, 0, 7195],\n",
       " [903, 4, 0, 3174],\n",
       " [904, 4, 0, 27347],\n",
       " [917, 4, 0, 588],\n",
       " [935, 4, 0, 5472],\n",
       " [961, 4, 0, 5311],\n",
       " [980, 4, 0, 656],\n",
       " [1008, 4, 0, 19049],\n",
       " [1042, 4, 0, 5511],\n",
       " [1083, 4, 0, 86],\n",
       " [1112, 4, 0, 30],\n",
       " [1115, 4, 0, 21705],\n",
       " [1118, 4, 0, 13036],\n",
       " [1118, 4, 0, 26636],\n",
       " [1120, 4, 0, 1794],\n",
       " [1132, 4, 0, 1906],\n",
       " [1135, 4, 0, 373],\n",
       " [1143, 4, 0, 89],\n",
       " [1151, 4, 0, 7694],\n",
       " [1153, 4, 0, 23283],\n",
       " [1172, 4, 0, 14300],\n",
       " [1207, 4, 0, 124],\n",
       " [1240, 4, 0, 10089],\n",
       " [1257, 4, 0, 913],\n",
       " [1274, 4, 0, 28026],\n",
       " [1332, 4, 0, 9568],\n",
       " [1363, 4, 0, 542],\n",
       " [1391, 4, 0, 9],\n",
       " [1403, 4, 0, 24599],\n",
       " [1407, 4, 0, 32306],\n",
       " [1426, 4, 0, 1855],\n",
       " [1456, 4, 0, 182],\n",
       " [1466, 4, 0, 7053],\n",
       " [1479, 4, 0, 1943],\n",
       " [1497, 4, 0, 26030],\n",
       " [1537, 4, 0, 136],\n",
       " [1558, 4, 0, 3272],\n",
       " [1560, 4, 0, 14629],\n",
       " [1566, 4, 0, 7163],\n",
       " [1569, 4, 0, 134],\n",
       " [1569, 4, 0, 665],\n",
       " [1594, 4, 0, 16418],\n",
       " [1598, 4, 0, 5231],\n",
       " [1598, 4, 0, 24386],\n",
       " [1603, 4, 0, 65],\n",
       " [1609, 4, 0, 20565],\n",
       " [1619, 4, 0, 19045],\n",
       " [1656, 4, 0, 1239],\n",
       " [1689, 4, 0, 126],\n",
       " [1694, 4, 0, 5097],\n",
       " [1703, 4, 0, 8],\n",
       " [1798, 4, 0, 497],\n",
       " [1806, 4, 0, 802],\n",
       " [1813, 4, 0, 328],\n",
       " [1825, 4, 0, 11902],\n",
       " [1856, 4, 0, 29227],\n",
       " [1860, 4, 0, 31851],\n",
       " [1865, 4, 0, 15337],\n",
       " [1869, 4, 0, 176],\n",
       " [1869, 4, 0, 26814],\n",
       " [1886, 4, 0, 295],\n",
       " [1925, 4, 0, 11347],\n",
       " [1960, 4, 0, 1829],\n",
       " [1961, 4, 0, 18724],\n",
       " [2040, 4, 0, 31349],\n",
       " [2050, 4, 0, 25554],\n",
       " [2053, 4, 0, 170],\n",
       " [2053, 4, 0, 13648],\n",
       " [2086, 4, 0, 23721],\n",
       " [2102, 4, 0, 2618],\n",
       " [2119, 4, 0, 706],\n",
       " [2135, 4, 0, 32],\n",
       " [2140, 4, 0, 173],\n",
       " [2167, 4, 0, 30945],\n",
       " [2173, 4, 0, 24781],\n",
       " [2196, 4, 0, 4422],\n",
       " [2208, 4, 0, 200],\n",
       " [2208, 4, 0, 5701],\n",
       " [2209, 4, 0, 10817],\n",
       " [2233, 4, 0, 11992],\n",
       " [2234, 4, 0, 233],\n",
       " [2236, 4, 0, 73],\n",
       " [2237, 4, 0, 2593],\n",
       " [2256, 4, 0, 175],\n",
       " [2264, 4, 0, 2907],\n",
       " [2366, 4, 0, 18913],\n",
       " [2408, 4, 0, 1435],\n",
       " [2431, 4, 0, 1747],\n",
       " [2449, 4, 0, 18931],\n",
       " [2472, 4, 0, 4569],\n",
       " [2474, 4, 0, 3292],\n",
       " [2520, 4, 0, 141],\n",
       " [2553, 4, 0, 3463],\n",
       " [2561, 4, 0, 571],\n",
       " [2562, 4, 0, 2709],\n",
       " [2569, 4, 0, 20948],\n",
       " [2581, 4, 0, 3],\n",
       " [2581, 4, 0, 13],\n",
       " [2594, 4, 0, 128],\n",
       " [2603, 4, 0, 300],\n",
       " [2617, 4, 0, 7044],\n",
       " [2632, 4, 0, 1079],\n",
       " [2655, 4, 0, 11989],\n",
       " [2655, 4, 0, 13346],\n",
       " [2713, 4, 0, 16753],\n",
       " [2726, 4, 0, 1981],\n",
       " [2726, 4, 0, 15103],\n",
       " [2728, 4, 0, 401],\n",
       " [2734, 4, 0, 25872],\n",
       " [2736, 4, 0, 17242],\n",
       " [2784, 4, 0, 12014],\n",
       " [2787, 4, 0, 21772],\n",
       " [2808, 4, 0, 24419],\n",
       " [2814, 4, 0, 29658],\n",
       " [2842, 4, 0, 9073],\n",
       " [2902, 4, 0, 445],\n",
       " [2918, 4, 0, 243],\n",
       " [2951, 4, 0, 23815],\n",
       " [2964, 4, 0, 30129],\n",
       " [2982, 4, 0, 292],\n",
       " [2989, 4, 0, 1080],\n",
       " [3007, 4, 0, 251],\n",
       " [3010, 4, 0, 7541],\n",
       " [3019, 4, 0, 137],\n",
       " [3020, 4, 0, 225],\n",
       " [3033, 4, 0, 7433],\n",
       " [3035, 4, 0, 1420],\n",
       " [3071, 4, 0, 29465],\n",
       " [3105, 4, 0, 319],\n",
       " [3118, 4, 0, 24],\n",
       " [3175, 4, 0, 23536],\n",
       " [3178, 4, 0, 262],\n",
       " [3183, 4, 0, 15803],\n",
       " [3214, 4, 0, 2483],\n",
       " [3227, 4, 0, 131],\n",
       " [3235, 4, 0, 29],\n",
       " [3279, 4, 0, 12946],\n",
       " [3298, 4, 0, 17273],\n",
       " [3305, 4, 0, 124],\n",
       " [3358, 4, 0, 7114],\n",
       " [3358, 4, 0, 8288],\n",
       " [3364, 4, 0, 1670],\n",
       " [3370, 4, 0, 2223],\n",
       " [3392, 4, 0, 240],\n",
       " [3393, 4, 0, 23355],\n",
       " [3394, 4, 0, 26804],\n",
       " [3402, 4, 0, 16673],\n",
       " [3427, 4, 0, 14073],\n",
       " [3448, 4, 0, 19351],\n",
       " [3449, 4, 0, 2422],\n",
       " [3449, 4, 0, 28013],\n",
       " [3452, 4, 0, 27534],\n",
       " [3456, 4, 0, 70],\n",
       " [3469, 4, 0, 1968],\n",
       " [3470, 4, 0, 16599],\n",
       " [3486, 4, 0, 72],\n",
       " [3489, 4, 0, 1502],\n",
       " [3548, 4, 0, 3263],\n",
       " [3569, 4, 0, 251],\n",
       " [3580, 4, 0, 27629],\n",
       " [3580, 4, 0, 29375],\n",
       " [3637, 4, 0, 3537],\n",
       " [3651, 4, 0, 570],\n",
       " [3654, 4, 0, 14374],\n",
       " [3666, 4, 0, 2556],\n",
       " [3700, 4, 0, 236],\n",
       " [3727, 4, 0, 31048],\n",
       " [3756, 4, 0, 50],\n",
       " [3760, 4, 0, 4444],\n",
       " [3854, 4, 0, 29801],\n",
       " [3872, 4, 0, 8524],\n",
       " [3896, 4, 0, 12314],\n",
       " [3910, 4, 0, 8302],\n",
       " [3927, 4, 0, 3607],\n",
       " [3929, 4, 0, 487],\n",
       " [3941, 4, 0, 4268],\n",
       " [4023, 4, 0, 394],\n",
       " [4030, 4, 0, 807],\n",
       " [4039, 4, 0, 20879],\n",
       " [4099, 4, 0, 1],\n",
       " [4126, 4, 0, 18394],\n",
       " [4130, 4, 0, 307],\n",
       " [4136, 4, 0, 4427],\n",
       " [4203, 4, 0, 22908],\n",
       " [4217, 4, 0, 9763],\n",
       " [4219, 4, 0, 13391],\n",
       " [4223, 4, 0, 56],\n",
       " [4281, 4, 0, 15518],\n",
       " [4297, 4, 0, 212],\n",
       " [4309, 4, 0, 1453],\n",
       " [4343, 4, 0, 10657],\n",
       " [4353, 4, 0, 6369],\n",
       " [4365, 4, 0, 258],\n",
       " [4370, 4, 0, 1237],\n",
       " [4377, 4, 0, 967],\n",
       " [4406, 4, 0, 1147],\n",
       " [4414, 4, 0, 165],\n",
       " [4414, 4, 0, 2259],\n",
       " [4425, 4, 0, 211],\n",
       " [4449, 4, 0, 31430],\n",
       " [4467, 4, 0, 13354],\n",
       " [4477, 4, 0, 12166],\n",
       " [4488, 4, 0, 16432],\n",
       " [4491, 4, 0, 270],\n",
       " [4540, 4, 0, 15640],\n",
       " [4592, 4, 0, 784],\n",
       " [4592, 4, 0, 1947],\n",
       " [4592, 4, 0, 2917],\n",
       " [4593, 4, 0, 1586],\n",
       " [4611, 4, 0, 85],\n",
       " [4641, 4, 0, 1287],\n",
       " [4677, 4, 0, 27565],\n",
       " [4682, 4, 0, 14676],\n",
       " [4685, 4, 0, 27718],\n",
       " [4693, 4, 0, 10538],\n",
       " [4693, 4, 0, 18127],\n",
       " [4700, 4, 0, 22686],\n",
       " [4719, 4, 0, 17311],\n",
       " [4722, 4, 0, 894],\n",
       " [4729, 4, 0, 337],\n",
       " [4780, 4, 0, 258],\n",
       " [4804, 4, 0, 19004],\n",
       " [4810, 4, 0, 276],\n",
       " [4824, 4, 0, 3699],\n",
       " [4826, 4, 0, 24015],\n",
       " [4856, 4, 0, 226],\n",
       " [4886, 4, 0, 28862],\n",
       " [4890, 4, 0, 400],\n",
       " [4901, 4, 0, 29264],\n",
       " [4930, 4, 0, 21809],\n",
       " [4930, 4, 0, 22865],\n",
       " [4951, 4, 0, 19993],\n",
       " [5000, 4, 0, 59],\n",
       " [5029, 4, 0, 2],\n",
       " [5030, 4, 0, 8551],\n",
       " [5051, 4, 0, 24381],\n",
       " [5078, 4, 0, 26164],\n",
       " [5105, 4, 0, 325],\n",
       " [5117, 4, 0, 141],\n",
       " [5127, 4, 0, 10327],\n",
       " [5128, 4, 0, 1897],\n",
       " [5132, 4, 0, 83],\n",
       " [5140, 4, 0, 2771],\n",
       " [5168, 4, 0, 27319],\n",
       " [5177, 4, 0, 119],\n",
       " [5182, 4, 0, 948],\n",
       " [5200, 4, 0, 23923],\n",
       " [5211, 4, 0, 26131],\n",
       " [5250, 4, 0, 1068],\n",
       " [5291, 4, 0, 643],\n",
       " [5334, 4, 0, 28462],\n",
       " [5352, 4, 0, 1432],\n",
       " [5360, 4, 0, 11846],\n",
       " [5371, 4, 0, 878],\n",
       " [5374, 4, 0, 31295],\n",
       " [5377, 4, 0, 20909],\n",
       " [5392, 4, 0, 19420],\n",
       " [5420, 4, 0, 30812],\n",
       " [5448, 4, 0, 22300],\n",
       " [5498, 4, 0, 419],\n",
       " [5513, 4, 0, 197],\n",
       " [5543, 4, 0, 8199],\n",
       " [5554, 4, 0, 10301],\n",
       " [5556, 4, 0, 13851],\n",
       " [5573, 4, 0, 3763],\n",
       " [5589, 4, 0, 3],\n",
       " [5589, 4, 0, 13],\n",
       " [5605, 4, 0, 18481],\n",
       " [5616, 4, 0, 27078],\n",
       " [5621, 4, 0, 10948],\n",
       " [5698, 4, 0, 16860],\n",
       " [5710, 4, 0, 197],\n",
       " [5711, 4, 0, 936],\n",
       " [5713, 4, 0, 296],\n",
       " [5718, 4, 0, 136],\n",
       " [5723, 4, 0, 448],\n",
       " [5733, 4, 0, 590],\n",
       " [5742, 4, 0, 525],\n",
       " [5755, 4, 0, 2125],\n",
       " [5784, 4, 0, 29561],\n",
       " [5795, 4, 0, 439],\n",
       " [5852, 4, 0, 18658],\n",
       " [5879, 4, 0, 12648],\n",
       " [5881, 4, 0, 834],\n",
       " [5890, 4, 0, 15655],\n",
       " [5906, 4, 0, 4242],\n",
       " [5912, 4, 0, 24708],\n",
       " [5925, 4, 0, 24032],\n",
       " [5938, 4, 0, 30092],\n",
       " [5948, 4, 0, 18932],\n",
       " [5952, 4, 0, 32296],\n",
       " [5991, 4, 0, 397],\n",
       " [5994, 4, 0, 977],\n",
       " [6011, 4, 0, 164],\n",
       " [6043, 4, 0, 8],\n",
       " [6061, 4, 0, 2387],\n",
       " [6110, 4, 0, 3791],\n",
       " [6117, 4, 0, 13398],\n",
       " [6149, 4, 0, 18961],\n",
       " [6166, 4, 0, 4208],\n",
       " [6212, 4, 0, 166],\n",
       " [6238, 4, 0, 22195],\n",
       " [6251, 4, 0, 441],\n",
       " [6306, 4, 0, 24629],\n",
       " [6332, 4, 0, 104],\n",
       " [6333, 4, 0, 334],\n",
       " [6352, 4, 0, 1241],\n",
       " [6358, 4, 0, 101],\n",
       " [6368, 4, 0, 1410],\n",
       " [6401, 4, 0, 10665],\n",
       " [6404, 4, 0, 21936],\n",
       " [6443, 4, 0, 8161],\n",
       " [6448, 4, 0, 68],\n",
       " [6503, 4, 0, 4031],\n",
       " [6516, 4, 0, 190],\n",
       " [6522, 4, 0, 623],\n",
       " [6527, 4, 0, 25087],\n",
       " [6533, 4, 0, 280],\n",
       " [6554, 4, 0, 1860],\n",
       " [6555, 4, 0, 10076],\n",
       " [6556, 4, 0, 26293],\n",
       " [6556, 4, 0, 26889],\n",
       " [6556, 4, 0, 27538],\n",
       " [6569, 4, 0, 22064],\n",
       " [6573, 4, 0, 1253],\n",
       " [6598, 4, 0, 9731],\n",
       " [6626, 4, 0, 869],\n",
       " [6641, 4, 0, 25402],\n",
       " [6665, 4, 0, 3924],\n",
       " [6686, 4, 0, 31125],\n",
       " [6742, 4, 0, 10492],\n",
       " [6746, 4, 0, 181],\n",
       " [6749, 4, 0, 680],\n",
       " [6766, 4, 0, 18581],\n",
       " [6766, 4, 0, 30259],\n",
       " [6807, 4, 0, 16392],\n",
       " [6832, 4, 0, 1606],\n",
       " [6854, 4, 0, 1723],\n",
       " [6858, 4, 0, 883],\n",
       " [6862, 4, 0, 322],\n",
       " [6864, 4, 0, 28526],\n",
       " [6865, 4, 0, 232],\n",
       " [6868, 4, 0, 20409],\n",
       " [6877, 4, 0, 27953],\n",
       " [6879, 4, 0, 24380],\n",
       " [6889, 4, 0, 17424],\n",
       " [6892, 4, 0, 32316],\n",
       " [6924, 4, 0, 19017],\n",
       " [6939, 4, 0, 22707],\n",
       " [6943, 4, 0, 12764],\n",
       " [6954, 4, 0, 14384],\n",
       " [6956, 4, 0, 20575],\n",
       " [6979, 4, 0, 86],\n",
       " [7024, 4, 0, 507],\n",
       " [7034, 4, 0, 1861],\n",
       " [7037, 4, 0, 32172],\n",
       " [7064, 4, 0, 2909],\n",
       " [7069, 4, 0, 9804],\n",
       " [7113, 4, 0, 210],\n",
       " [7138, 4, 0, 17439],\n",
       " [7139, 4, 0, 17211],\n",
       " [7154, 4, 0, 6173],\n",
       " [7160, 4, 0, 23285],\n",
       " [7202, 4, 0, 16770],\n",
       " [7210, 4, 0, 30606],\n",
       " [7214, 4, 0, 32227],\n",
       " [7217, 4, 0, 30164],\n",
       " [7240, 4, 0, 6203],\n",
       " [7251, 4, 0, 115],\n",
       " [7266, 4, 0, 24081],\n",
       " [7272, 4, 0, 442],\n",
       " [7296, 4, 0, 24547],\n",
       " [7306, 4, 0, 5069],\n",
       " [7319, 4, 0, 22616],\n",
       " [7329, 4, 0, 101],\n",
       " [7354, 4, 0, 27873],\n",
       " [7361, 4, 0, 24509],\n",
       " [7370, 4, 0, 9725],\n",
       " [7370, 4, 0, 15657],\n",
       " [7404, 4, 0, 511],\n",
       " [7422, 4, 0, 7535],\n",
       " [7452, 4, 0, 11360],\n",
       " [7462, 4, 0, 206],\n",
       " [7504, 4, 0, 19164],\n",
       " [7511, 4, 0, 31087],\n",
       " [7512, 4, 0, 284],\n",
       " [7513, 4, 0, 2416],\n",
       " [7514, 4, 0, 22289],\n",
       " [7535, 4, 0, 25343],\n",
       " [7550, 4, 0, 16757],\n",
       " [7556, 4, 0, 183],\n",
       " [7564, 4, 0, 30378],\n",
       " [7593, 4, 0, 9424],\n",
       " [7603, 4, 0, 20657],\n",
       " [7630, 4, 0, 124],\n",
       " [7644, 4, 0, 24701],\n",
       " [7649, 4, 0, 6347],\n",
       " [7664, 4, 0, 3299],\n",
       " [7685, 4, 0, 1037],\n",
       " [7693, 4, 0, 8235],\n",
       " [7694, 4, 0, 18650],\n",
       " [7702, 4, 0, 3163],\n",
       " [7722, 4, 0, 32019],\n",
       " [7749, 4, 0, 25276],\n",
       " [7765, 4, 0, 1352],\n",
       " [7767, 4, 0, 5603],\n",
       " [7788, 4, 0, 9591],\n",
       " [7821, 4, 0, 362],\n",
       " [7844, 4, 0, 16213],\n",
       " [7846, 4, 0, 16448],\n",
       " [7869, 4, 0, 697],\n",
       " [7895, 4, 0, 159],\n",
       " [7952, 4, 0, 31867],\n",
       " [7968, 4, 0, 28448],\n",
       " [7973, 4, 0, 79],\n",
       " [7979, 4, 0, 14966],\n",
       " [7984, 4, 0, 677],\n",
       " [7987, 4, 0, 24813],\n",
       " [8028, 4, 0, 15136],\n",
       " [8030, 4, 0, 32201],\n",
       " [8049, 4, 0, 28291],\n",
       " [8097, 4, 0, 3426],\n",
       " [8124, 4, 0, 3530],\n",
       " [8145, 4, 0, 2831],\n",
       " [8153, 4, 0, 9716],\n",
       " [8170, 4, 0, 165],\n",
       " [8177, 4, 0, 345],\n",
       " [8187, 4, 0, 14461],\n",
       " [8189, 4, 0, 17878],\n",
       " [8232, 4, 0, 29208],\n",
       " [8267, 4, 0, 186],\n",
       " [8310, 4, 0, 431],\n",
       " [8321, 4, 0, 407],\n",
       " [8349, 4, 0, 9677],\n",
       " [8355, 4, 0, 30783],\n",
       " [8358, 4, 0, 7476],\n",
       " [8359, 4, 0, 13848],\n",
       " [8396, 4, 0, 21608],\n",
       " [8402, 4, 0, 26214],\n",
       " [8409, 4, 0, 4880],\n",
       " [8438, 4, 0, 13589],\n",
       " [8441, 4, 0, 1819],\n",
       " [8483, 4, 0, 6572],\n",
       " [8589, 4, 0, 120],\n",
       " [8610, 4, 0, 19040],\n",
       " [8613, 4, 0, 448],\n",
       " [8622, 4, 0, 19486],\n",
       " [8667, 4, 0, 31670],\n",
       " [8676, 4, 0, 16937],\n",
       " [8697, 4, 0, 15722],\n",
       " [8706, 4, 0, 7577],\n",
       " [8717, 4, 0, 19214],\n",
       " [8786, 4, 0, 14457],\n",
       " [8807, 4, 0, 859],\n",
       " [8844, 4, 0, 81],\n",
       " [8846, 4, 0, 8911],\n",
       " [8876, 4, 0, 14429],\n",
       " [8909, 4, 0, 29388],\n",
       " [8940, 4, 0, 1170],\n",
       " [8980, 4, 0, 8996],\n",
       " [9007, 4, 0, 19099],\n",
       " [9008, 4, 0, 5657],\n",
       " [9021, 4, 0, 384],\n",
       " [9027, 4, 0, 538],\n",
       " [9029, 4, 0, 224],\n",
       " [9029, 4, 0, 818],\n",
       " [9040, 4, 0, 6903],\n",
       " [9050, 4, 0, 14809],\n",
       " [9060, 4, 0, 3],\n",
       " [9140, 4, 0, 123],\n",
       " [9152, 4, 0, 387],\n",
       " [9230, 4, 0, 21575],\n",
       " [9256, 4, 0, 542],\n",
       " [9258, 4, 0, 596],\n",
       " [9266, 4, 0, 23237],\n",
       " [9282, 4, 0, 24570],\n",
       " [9288, 4, 0, 5216],\n",
       " [9292, 4, 0, 4329],\n",
       " [9303, 4, 0, 84],\n",
       " [9304, 4, 0, 277],\n",
       " [9307, 4, 0, 18772],\n",
       " [9313, 4, 0, 12366],\n",
       " [9387, 4, 0, 3],\n",
       " [9387, 4, 0, 13],\n",
       " [9387, 4, 0, 625],\n",
       " [9419, 4, 0, 29],\n",
       " [9419, 4, 0, 1959],\n",
       " [9422, 4, 0, 136],\n",
       " [9438, 4, 0, 386],\n",
       " [9452, 4, 0, 4630],\n",
       " [9514, 4, 0, 17573],\n",
       " [9521, 4, 0, 904],\n",
       " [9541, 4, 0, 21619],\n",
       " [9581, 4, 0, 12021],\n",
       " [9583, 4, 0, 10999],\n",
       " [9583, 4, 0, 12789],\n",
       " [9587, 4, 0, 1],\n",
       " [9587, 4, 0, 11],\n",
       " [9599, 4, 0, 868],\n",
       " [9608, 4, 0, 3712],\n",
       " [9642, 4, 0, 26319],\n",
       " [9659, 4, 0, 406],\n",
       " [9659, 4, 0, 1040],\n",
       " [9689, 4, 0, 7472],\n",
       " [9694, 4, 0, 5378],\n",
       " [9722, 4, 0, 2728],\n",
       " [9739, 4, 0, 16126],\n",
       " [9755, 4, 0, 915],\n",
       " [9756, 4, 0, 7092],\n",
       " [9756, 4, 0, 17867],\n",
       " [9761, 4, 0, 28896],\n",
       " [9783, 4, 0, 13648],\n",
       " [9785, 4, 0, 27925],\n",
       " [9797, 4, 0, 1224],\n",
       " [9815, 4, 0, 27436],\n",
       " [9823, 4, 0, 606],\n",
       " [9876, 4, 0, 11087],\n",
       " [9893, 4, 0, 182],\n",
       " [9905, 4, 0, 8827],\n",
       " [9928, 4, 0, 291],\n",
       " [9937, 4, 0, 211],\n",
       " [9980, 4, 0, 367],\n",
       " [10015, 4, 0, 913],\n",
       " [10027, 4, 0, 72],\n",
       " [10037, 4, 0, 22160],\n",
       " [10060, 4, 0, 32332],\n",
       " [10077, 4, 0, 146],\n",
       " [10086, 4, 0, 9348],\n",
       " [10129, 4, 0, 2092],\n",
       " [10129, 4, 0, 8922],\n",
       " [10174, 4, 0, 3477],\n",
       " [10189, 4, 0, 17342],\n",
       " [10193, 4, 0, 20887],\n",
       " [10197, 4, 0, 30367],\n",
       " [10212, 4, 0, 406],\n",
       " [10226, 4, 0, 8685],\n",
       " [10227, 4, 0, 8757],\n",
       " [10252, 4, 0, 29018],\n",
       " [10255, 4, 0, 26],\n",
       " [10286, 4, 0, 961],\n",
       " [10289, 4, 0, 19700],\n",
       " [10290, 4, 0, 29475],\n",
       " [10291, 4, 0, 27438],\n",
       " [10303, 4, 0, 14308],\n",
       " [10312, 4, 0, 30571],\n",
       " [10313, 4, 0, 1226],\n",
       " [10313, 4, 0, 20487],\n",
       " [10331, 4, 0, 28],\n",
       " [10347, 4, 0, 207],\n",
       " [10351, 4, 0, 28699],\n",
       " [10357, 4, 0, 30099],\n",
       " [10390, 4, 0, 1054],\n",
       " [10390, 4, 0, 4626],\n",
       " [10410, 4, 0, 972],\n",
       " [10444, 4, 0, 23203],\n",
       " [10470, 4, 0, 14959],\n",
       " [10499, 4, 0, 8044],\n",
       " [10510, 4, 0, 361],\n",
       " [10520, 4, 0, 4459],\n",
       " [10524, 4, 0, 173],\n",
       " [10552, 4, 0, 934],\n",
       " [10553, 4, 0, 9600],\n",
       " [10623, 4, 0, 160],\n",
       " [10636, 4, 0, 427],\n",
       " [10674, 4, 0, 2451],\n",
       " [10680, 4, 0, 5989],\n",
       " [10712, 4, 0, 4636],\n",
       " [10719, 4, 0, 2562],\n",
       " [10727, 4, 0, 23864],\n",
       " [10769, 4, 0, 7649],\n",
       " [10776, 4, 0, 402],\n",
       " [10816, 4, 0, 16287],\n",
       " [10822, 4, 0, 5],\n",
       " [10825, 4, 0, 475],\n",
       " [10832, 4, 0, 225],\n",
       " [10852, 4, 0, 1139],\n",
       " [10861, 4, 0, 30579],\n",
       " [10864, 4, 0, 268],\n",
       " [10867, 4, 0, 22200],\n",
       " [10877, 4, 0, 3095],\n",
       " [10881, 4, 0, 536],\n",
       " [10881, 4, 0, 1232],\n",
       " [10893, 4, 0, 224],\n",
       " [10901, 4, 0, 11991],\n",
       " [10912, 4, 0, 2732],\n",
       " [10927, 4, 0, 21367],\n",
       " [10939, 4, 0, 1616],\n",
       " [10951, 4, 0, 29779],\n",
       " [10974, 4, 0, 2769],\n",
       " [11070, 4, 0, 6433],\n",
       " [11083, 4, 0, 30808],\n",
       " [11104, 4, 0, 27699],\n",
       " [11107, 4, 0, 382],\n",
       " [11111, 4, 0, 1594],\n",
       " [11115, 4, 0, 31963],\n",
       " [11119, 4, 0, 30939],\n",
       " [11142, 4, 0, 916],\n",
       " [11152, 4, 0, 2398],\n",
       " [11159, 4, 0, 15254],\n",
       " [11202, 4, 0, 161],\n",
       " [11211, 4, 0, 22412],\n",
       " [11220, 4, 0, 3216],\n",
       " [11255, 4, 0, 16296],\n",
       " [11271, 4, 0, 180],\n",
       " [11278, 4, 0, 25362],\n",
       " [11322, 4, 0, 136],\n",
       " [11326, 4, 0, 3859],\n",
       " [11342, 4, 0, 4396],\n",
       " [11368, 4, 0, 2608],\n",
       " [11368, 4, 0, 4147],\n",
       " [11397, 4, 0, 883],\n",
       " [11403, 4, 0, 8391],\n",
       " [11540, 4, 0, 25352],\n",
       " [11556, 4, 0, 88],\n",
       " [11601, 4, 0, 1],\n",
       " [11601, 4, 0, 11],\n",
       " [11602, 4, 0, 4113],\n",
       " [11630, 4, 0, 1009],\n",
       " [11654, 4, 0, 851],\n",
       " [11681, 4, 0, 386],\n",
       " [11702, 4, 0, 8001],\n",
       " [11745, 4, 0, 469],\n",
       " [11755, 4, 0, 915],\n",
       " [11788, 4, 0, 31188],\n",
       " [11796, 4, 0, 28883],\n",
       " [11819, 4, 0, 530],\n",
       " [11852, 4, 0, 2579],\n",
       " [11867, 4, 0, 27375],\n",
       " [11868, 4, 0, 10444],\n",
       " [11875, 4, 0, 9827],\n",
       " [11875, 4, 0, 12072],\n",
       " [11891, 4, 0, 3783],\n",
       " [11900, 4, 0, 28162],\n",
       " [11901, 4, 0, 10311],\n",
       " [11903, 4, 0, 15403],\n",
       " [11936, 4, 0, 4836],\n",
       " [11940, 4, 0, 18149],\n",
       " [11986, 4, 0, 512],\n",
       " [12055, 4, 0, 9788],\n",
       " [12072, 4, 0, 212],\n",
       " [12090, 4, 0, 32534],\n",
       " [12120, 4, 0, 313],\n",
       " [12255, 4, 0, 10106],\n",
       " [12264, 4, 0, 30373],\n",
       " [12264, 4, 0, 30966],\n",
       " [12300, 4, 0, 22562],\n",
       " [12303, 4, 0, 330],\n",
       " [12303, 4, 0, 1114],\n",
       " [12309, 4, 0, 235],\n",
       " [12322, 4, 0, 24607],\n",
       " [12324, 4, 0, 25200],\n",
       " [12399, 4, 0, 551],\n",
       " [12420, 4, 0, 4050],\n",
       " [12441, 4, 0, 15085],\n",
       " [12469, 4, 0, 169],\n",
       " [12499, 4, 0, 3447],\n",
       " [12510, 4, 0, 30766],\n",
       " [12513, 4, 0, 29163],\n",
       " [12516, 4, 0, 12927],\n",
       " [12526, 4, 0, 2606],\n",
       " [12537, 4, 0, 398],\n",
       " [12566, 4, 0, 26306],\n",
       " [12567, 4, 0, 176],\n",
       " [12595, 4, 0, 195],\n",
       " [12634, 4, 0, 27928],\n",
       " [12639, 4, 0, 1338],\n",
       " [12642, 4, 0, 7089],\n",
       " [12725, 4, 0, 5715],\n",
       " [12740, 4, 0, 1648],\n",
       " [12801, 4, 0, 18894],\n",
       " [12841, 4, 0, 287],\n",
       " [12858, 4, 0, 12030],\n",
       " [12878, 4, 0, 293],\n",
       " [12888, 4, 0, 790],\n",
       " [12900, 4, 0, 2425],\n",
       " [12912, 4, 0, 13609],\n",
       " [12941, 4, 0, 500],\n",
       " [12970, 4, 0, 218],\n",
       " [13007, 4, 0, 18492],\n",
       " [13011, 4, 0, 1467],\n",
       " [13024, 4, 0, 455],\n",
       " [13028, 4, 0, 54],\n",
       " [13048, 4, 0, 9662],\n",
       " [13067, 4, 0, 731],\n",
       " [13081, 4, 0, 800],\n",
       " [13086, 4, 0, 146],\n",
       " [13098, 4, 0, 8384],\n",
       " [13192, 4, 0, 629],\n",
       " [13202, 4, 0, 285],\n",
       " [13211, 4, 0, 3719],\n",
       " [13230, 4, 0, 3835],\n",
       " [13290, 4, 0, 22033],\n",
       " [13295, 4, 0, 25105],\n",
       " [13335, 4, 0, 11196],\n",
       " [13350, 4, 0, 5872],\n",
       " [13354, 4, 0, 458],\n",
       " [13381, 4, 0, 28230],\n",
       " [13414, 4, 0, 5368],\n",
       " [13421, 4, 0, 6308],\n",
       " [13457, 4, 0, 20990],\n",
       " [13457, 4, 0, 21822],\n",
       " [13463, 4, 0, 7788],\n",
       " [13479, 4, 0, 16278],\n",
       " [13503, 4, 0, 193],\n",
       " [13514, 4, 0, 496],\n",
       " [13525, 4, 0, 3341],\n",
       " [13530, 4, 0, 18462],\n",
       " [13543, 4, 0, 2200],\n",
       " [13562, 4, 0, 2011],\n",
       " [13566, 4, 0, 13531],\n",
       " [13568, 4, 0, 267],\n",
       " [13578, 4, 0, 343],\n",
       " [13595, 4, 0, 17799],\n",
       " [13631, 4, 0, 886],\n",
       " [13636, 4, 0, 18797],\n",
       " [13657, 4, 0, 8549],\n",
       " [13671, 4, 0, 16760],\n",
       " [13674, 4, 0, 569],\n",
       " [13702, 4, 0, 21590],\n",
       " [13709, 4, 0, 21177],\n",
       " [13767, 4, 0, 1621],\n",
       " [13771, 4, 0, 1443],\n",
       " [13807, 4, 0, 625],\n",
       " [13834, 4, 0, 4325],\n",
       " [13883, 4, 0, 132],\n",
       " [13898, 4, 0, 19176],\n",
       " [13918, 4, 0, 5506],\n",
       " [13944, 4, 0, 2369],\n",
       " [13950, 4, 0, 46],\n",
       " [13964, 4, 0, 185],\n",
       " [13972, 4, 0, 16445],\n",
       " [14012, 4, 0, 2616],\n",
       " [14021, 4, 0, 583],\n",
       " [14047, 4, 0, 187],\n",
       " [14053, 4, 0, 71],\n",
       " [14081, 4, 0, 18472],\n",
       " [14113, 4, 0, 17439],\n",
       " [14128, 4, 0, 121],\n",
       " [14157, 4, 0, 762],\n",
       " [14203, 4, 0, 8207],\n",
       " [14217, 4, 0, 4041],\n",
       " [14236, 4, 0, 35],\n",
       " [14273, 4, 0, 24744],\n",
       " [14273, 4, 0, 25762],\n",
       " [14281, 4, 0, 197],\n",
       " [14364, 4, 0, 240],\n",
       " [14367, 4, 0, 28095],\n",
       " [14407, 4, 0, 419],\n",
       " [14448, 4, 0, 868],\n",
       " [14462, 4, 0, 702],\n",
       " [14512, 4, 0, 1515],\n",
       " [14524, 4, 0, 9570],\n",
       " [14539, 4, 0, 112],\n",
       " [14587, 4, 0, 235],\n",
       " [14606, 4, 0, 20432],\n",
       " [14624, 4, 0, 7335],\n",
       " [14640, 4, 0, 20802],\n",
       " [14663, 4, 0, 6910],\n",
       " [14681, 4, 0, 873],\n",
       " [14705, 4, 0, 18398],\n",
       " [14711, 4, 0, 176],\n",
       " [14720, 4, 0, 7573],\n",
       " [14730, 4, 0, 309],\n",
       " [14740, 4, 0, 27415],\n",
       " [14749, 4, 0, 289],\n",
       " [14761, 4, 0, 19541],\n",
       " [14768, 4, 0, 204],\n",
       " [14784, 4, 0, 22799],\n",
       " [14785, 4, 0, 2002],\n",
       " [14886, 4, 0, 26071],\n",
       " [14891, 4, 0, 178],\n",
       " [14897, 4, 0, 13691],\n",
       " [14903, 4, 0, 50],\n",
       " [14905, 4, 0, 12861],\n",
       " [14963, 4, 0, 718],\n",
       " [15054, 4, 0, 209],\n",
       " [15058, 4, 0, 13851],\n",
       " [15066, 4, 0, 4570],\n",
       " [15069, 4, 0, 570],\n",
       " [15101, 4, 0, 1294],\n",
       " [15104, 4, 0, 298],\n",
       " [15117, 4, 0, 30015],\n",
       " [15168, 4, 0, 17055],\n",
       " [15174, 4, 0, 29639],\n",
       " [15183, 4, 0, 5509],\n",
       " [15184, 4, 0, 610],\n",
       " [15184, 4, 0, 3072],\n",
       " [15237, 4, 0, 204],\n",
       " [15240, 4, 0, 422],\n",
       " [15265, 4, 0, 31510],\n",
       " [15315, 4, 0, 1636],\n",
       " [15319, 4, 0, 177],\n",
       " [15360, 4, 0, 6813],\n",
       " [15365, 4, 0, 239],\n",
       " [15368, 4, 0, 30223],\n",
       " [15373, 4, 0, 30569],\n",
       " [15387, 4, 0, 19744],\n",
       " [15423, 4, 0, 20466],\n",
       " [15428, 4, 0, 3008],\n",
       " [15445, 4, 0, 89],\n",
       " [15446, 4, 0, 17465],\n",
       " [15455, 4, 0, 25331],\n",
       " [15481, 4, 0, 22545],\n",
       " [15498, 4, 0, 14554],\n",
       " [15505, 4, 0, 184],\n",
       " [15534, 4, 0, 792],\n",
       " [15549, 4, 0, 2265],\n",
       " [15561, 4, 0, 182],\n",
       " [15569, 4, 0, 1049],\n",
       " [15576, 4, 0, 1941],\n",
       " [15606, 4, 0, 2603],\n",
       " [15610, 4, 0, 2882],\n",
       " [15613, 4, 0, 18272],\n",
       " [15634, 4, 0, 8896],\n",
       " [15642, 4, 0, 6078],\n",
       " [15661, 4, 0, 13902],\n",
       " [15668, 4, 0, 8950],\n",
       " [15716, 4, 0, 463],\n",
       " [15739, 4, 0, 9584],\n",
       " [15761, 4, 0, 9777],\n",
       " [15770, 4, 0, 2837],\n",
       " [15771, 4, 0, 1481],\n",
       " [15773, 4, 0, 13026],\n",
       " [15773, 4, 0, 13749],\n",
       " [15778, 4, 0, 551],\n",
       " [15808, 4, 0, 17243],\n",
       " [15820, 4, 0, 12028],\n",
       " [15849, 4, 0, 22520],\n",
       " [15852, 4, 0, 314],\n",
       " [15861, 4, 0, 21010],\n",
       " [15864, 4, 0, 19148],\n",
       " [15890, 4, 0, 24011],\n",
       " [15909, 4, 0, 3943],\n",
       " [15945, 4, 0, 324],\n",
       " [15959, 4, 0, 28874],\n",
       " [15972, 4, 0, 65],\n",
       " [16006, 4, 0, 216],\n",
       " [16015, 4, 0, 21776],\n",
       " [16071, 4, 0, 222],\n",
       " [16073, 4, 0, 14038],\n",
       " [16110, 4, 0, 27562],\n",
       " [16131, 4, 0, 10438],\n",
       " [16168, 4, 0, 25238],\n",
       " [16174, 4, 0, 4283],\n",
       " [16185, 4, 0, 1177],\n",
       " [16189, 4, 0, 566],\n",
       " [16216, 4, 0, 27020],\n",
       " [16227, 4, 0, 130],\n",
       " [16265, 4, 0, 17727],\n",
       " [16266, 4, 0, 2104],\n",
       " [16289, 4, 0, 23973],\n",
       " [16296, 4, 0, 552],\n",
       " [16306, 4, 0, 688],\n",
       " [16345, 4, 0, 23571],\n",
       " [16412, 4, 0, 3810],\n",
       " [16418, 4, 0, 485],\n",
       " [16442, 4, 0, 8680],\n",
       " [16501, 4, 0, 25254],\n",
       " [16533, 4, 0, 17449],\n",
       " [16546, 4, 0, 1483],\n",
       " [16584, 4, 0, 14941],\n",
       " [16585, 4, 0, 10330],\n",
       " [16603, 4, 0, 7287],\n",
       " [16608, 4, 0, 19810],\n",
       " [16679, 4, 0, 262],\n",
       " [16684, 4, 0, 2290],\n",
       " [16687, 4, 0, 721],\n",
       " [16696, 4, 0, 7771],\n",
       " [16701, 4, 0, 2621],\n",
       " [16705, 4, 0, 3330],\n",
       " [16707, 4, 0, 14078],\n",
       " [16717, 4, 0, 9564],\n",
       " [16718, 4, 0, 678],\n",
       " [16754, 4, 0, 2419],\n",
       " [16763, 4, 0, 165],\n",
       " [16773, 4, 0, 25085],\n",
       " [16786, 4, 0, 3011],\n",
       " [16800, 4, 0, 13205],\n",
       " [16850, 4, 0, 5769],\n",
       " [16879, 4, 0, 6211],\n",
       " [16936, 4, 0, 115],\n",
       " [16972, 4, 0, 904],\n",
       " [16973, 4, 0, 310],\n",
       " [16988, 4, 0, 1181],\n",
       " [17000, 4, 0, 56],\n",
       " [17021, 4, 0, 32006],\n",
       " [17022, 4, 0, 99],\n",
       " [17049, 4, 0, 26290],\n",
       " [17056, 4, 0, 27304],\n",
       " [17106, 4, 0, 651],\n",
       " [17118, 4, 0, 184],\n",
       " [17124, 4, 0, 9916],\n",
       " [17127, 4, 0, 1344],\n",
       " [17139, 4, 0, 29656],\n",
       " [17149, 4, 0, 25969],\n",
       " [17159, 4, 0, 17514],\n",
       " [17164, 4, 0, 26763],\n",
       " [17174, 4, 0, 10692],\n",
       " [17183, 4, 0, 126],\n",
       " [17188, 4, 0, 55],\n",
       " [17212, 4, 0, 5000],\n",
       " [17236, 4, 0, 353],\n",
       " [17255, 4, 0, 838],\n",
       " [17332, 4, 0, 6613],\n",
       " [17376, 4, 0, 5],\n",
       " [17376, 4, 0, 7372],\n",
       " [17376, 4, 0, 29167],\n",
       " [17386, 4, 0, 1618],\n",
       " [17391, 4, 0, 1233],\n",
       " [17409, 4, 0, 9434],\n",
       " [17442, 4, 0, 32390],\n",
       " [17446, 4, 0, 700],\n",
       " [17451, 4, 0, 5490],\n",
       " [17453, 4, 0, 1202],\n",
       " [17461, 4, 0, 2032],\n",
       " [17462, 4, 0, 1846],\n",
       " [17469, 4, 0, 19248],\n",
       " [17522, 4, 0, 16055],\n",
       " [17542, 4, 0, 22211],\n",
       " [17556, 4, 0, 2261],\n",
       " [17556, 4, 0, 2899],\n",
       " [17562, 4, 0, 8109],\n",
       " [17567, 4, 0, 25189],\n",
       " [17587, 4, 0, 452],\n",
       " [17605, 4, 0, 5999],\n",
       " [17627, 4, 0, 8790],\n",
       " [17629, 4, 0, 19586],\n",
       " [17650, 4, 0, 1181],\n",
       " [17650, 4, 0, 2320],\n",
       " [17660, 4, 0, 200],\n",
       " [17690, 4, 0, 23910],\n",
       " [17706, 4, 0, 26685],\n",
       " [17742, 4, 0, 29519],\n",
       " [17748, 4, 0, 583],\n",
       " [17748, 4, 0, 1337],\n",
       " [17791, 4, 0, 21669],\n",
       " [17826, 4, 0, 1610],\n",
       " [17852, 4, 0, 24904],\n",
       " [17855, 4, 0, 20828],\n",
       " [17862, 4, 0, 3],\n",
       " [17876, 4, 0, 29146],\n",
       " [17896, 4, 0, 216],\n",
       " [17897, 4, 0, 1990],\n",
       " [17906, 4, 0, 24708],\n",
       " [17932, 4, 0, 1434],\n",
       " [17934, 4, 0, 847],\n",
       " ...]"
      ]
     },
     "execution_count": 164,
     "metadata": {},
     "output_type": "execute_result"
    }
   ],
   "source": [
    "dw_s "
   ]
  },
  {
   "cell_type": "code",
   "execution_count": 166,
   "id": "15440d35",
   "metadata": {
    "scrolled": true
   },
   "outputs": [
    {
     "data": {
      "text/plain": [
       "(array([11.,  1.,  1.,  0.,  0.,  0.,  1.,  0.,  0.,  2.]),\n",
       " array([  177. ,  3207.4,  6237.8,  9268.2, 12298.6, 15329. , 18359.4,\n",
       "        21389.8, 24420.2, 27450.6, 30481. ]),\n",
       " <BarContainer object of 10 artists>)"
      ]
     },
     "execution_count": 166,
     "metadata": {},
     "output_type": "execute_result"
    },
    {
     "data": {
      "image/png": "[encoded data removed]",
      "text/plain": [
       "<Figure size 432x288 with 1 Axes>"
      ]
     },
     "metadata": {
      "needs_background": "light"
     },
     "output_type": "display_data"
    }
   ],
   "source": [
    "plt.hist([i[3] for  i in coinc_011])"
   ]
  },
  {
   "cell_type": "code",
   "execution_count": null,
   "id": "43d77ffb",
   "metadata": {},
   "outputs": [],
   "source": []
  }
 ],
 "metadata": {
  "kernelspec": {
   "display_name": "Python 3 (ipykernel)",
   "language": "python",
   "name": "python3"
  },
  "language_info": {
   "codemirror_mode": {
    "name": "ipython",
    "version": 3
   },
   "file_extension": ".py",
   "mimetype": "text/x-python",
   "name": "python",
   "nbconvert_exporter": "python",
   "pygments_lexer": "ipython3",
   "version": "3.9.12"
  }
 },
 "nbformat": 4,
 "nbformat_minor": 5
}
