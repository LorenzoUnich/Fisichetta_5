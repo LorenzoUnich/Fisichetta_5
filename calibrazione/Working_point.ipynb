{
 "cells": [
  {
   "cell_type": "code",
   "execution_count": 1,
   "id": "41ef6dbe",
   "metadata": {},
   "outputs": [
    {
     "name": "stdout",
     "output_type": "stream",
     "text": [
      "Welcome to JupyROOT 6.28/00\n"
     ]
    }
   ],
   "source": [
    "import numpy as np\n",
    "import matplotlib.pyplot as plt\n",
    "import pandas as pd\n",
    "import ROOT\n",
    "import math\n",
    "import array"
   ]
  },
  {
   "cell_type": "markdown",
   "id": "e3548b66",
   "metadata": {},
   "source": [
    "# Misure dei rate\n",
    "Abbiamo misurato i rate dei tre scintillatori al fine di scegliere la soglia dei discriminatori."
   ]
  },
  {
   "cell_type": "code",
   "execution_count": 2,
   "id": "0c878ca5",
   "metadata": {},
   "outputs": [],
   "source": [
    "def misure_frame(Mis,time,soglia):\n",
    "    dict_mis = {}\n",
    "    for i in range(len(Mis[0])):\n",
    "        mis = []\n",
    "        for j in range(len(Mis)):\n",
    "            mis.append(Mis[j][i])\n",
    "        name = \"soglia\" + str(soglia[i])\n",
    "        #print(mis)\n",
    "        dict_mis[name] = mis\n",
    "    df_mis = pd.DataFrame(dict_mis)\n",
    "    count_mean =[]\n",
    "    count_std = []\n",
    "    for i in range(len(soglia)):\n",
    "        name = \"soglia\" + str(soglia[i])\n",
    "        mean = np.mean(df_mis[name])\n",
    "        std  = np.std(df_mis[name])\n",
    "        count_mean.append(mean)\n",
    "        count_std.append(std)\n",
    "    rate_mean = np.array(count_mean)/time #Per fare il rate ho solo divso per il tempo e non ho conisderato erroi sul tempo\n",
    "    rate_std = np.array(count_std)/time\n",
    "    return rate_mean, rate_std, df_mis"
   ]
  },
  {
   "cell_type": "markdown",
   "id": "382a8613",
   "metadata": {},
   "source": [
    "## Rate SDW"
   ]
  },
  {
   "cell_type": "code",
   "execution_count": 3,
   "id": "df005070",
   "metadata": {},
   "outputs": [],
   "source": [
    "soglia_dw = [5, 10, 20,25,30,35,40,45,50,55,60,65,70]\n",
    "err_soglia = [0.01] #Scegliendo come errore la sensibilità dello strumento, ossia il multimetro.\n",
    "time_dw = [30,30,30,30,30,30,30,30,40,40,40,40,40] #Il tempo è in secondi"
   ]
  },
  {
   "cell_type": "code",
   "execution_count": 4,
   "id": "1d2be9e0",
   "metadata": {},
   "outputs": [],
   "source": [
    "misura_1 = [156446,146339,25257,19955,15751,12594,10236,8402,8983,7527,6258,4766,4149]\n",
    "misura_2 = [158497,145560,25430,20227,15669,12675,10136,8226,9186,7394,6037,4837,3974]\n",
    "misura_3 = [161263,148082,25900,19587,15695,12291,10161,8450,9360,7352,6052,4934,4192]\n",
    "misura_4 = [157701,149981,25441,19031,15168,12201,10221,8396,9098,7517,5815,4717,4461]\n",
    "misura_5 = [160044,152852,25072,19773,15448,12513,10365,8200,9122,7342,5827,4743,4140]\n",
    "mis_dw = [misura_1, misura_2,misura_3,misura_4,misura_5]\n"
   ]
  },
  {
   "cell_type": "code",
   "execution_count": 5,
   "id": "be5684f2",
   "metadata": {},
   "outputs": [],
   "source": [
    "mean_dw, std_dw, df_dw = misure_frame(mis_dw, time_dw,soglia_dw)"
   ]
  },
  {
   "cell_type": "code",
   "execution_count": 6,
   "id": "0c4d9904",
   "metadata": {},
   "outputs": [
    {
     "data": {
      "text/html": [
       "<div>\n",
       "<style scoped>\n",
       "    .dataframe tbody tr th:only-of-type {\n",
       "        vertical-align: middle;\n",
       "    }\n",
       "\n",
       "    .dataframe tbody tr th {\n",
       "        vertical-align: top;\n",
       "    }\n",
       "\n",
       "    .dataframe thead th {\n",
       "        text-align: right;\n",
       "    }\n",
       "</style>\n",
       "<table border=\"1\" class=\"dataframe\">\n",
       "  <thead>\n",
       "    <tr style=\"text-align: right;\">\n",
       "      <th></th>\n",
       "      <th>soglia5</th>\n",
       "      <th>soglia10</th>\n",
       "      <th>soglia20</th>\n",
       "      <th>soglia25</th>\n",
       "      <th>soglia30</th>\n",
       "      <th>soglia35</th>\n",
       "      <th>soglia40</th>\n",
       "      <th>soglia45</th>\n",
       "      <th>soglia50</th>\n",
       "      <th>soglia55</th>\n",
       "      <th>soglia60</th>\n",
       "      <th>soglia65</th>\n",
       "      <th>soglia70</th>\n",
       "    </tr>\n",
       "  </thead>\n",
       "  <tbody>\n",
       "    <tr>\n",
       "      <th>0</th>\n",
       "      <td>156446</td>\n",
       "      <td>146339</td>\n",
       "      <td>25257</td>\n",
       "      <td>19955</td>\n",
       "      <td>15751</td>\n",
       "      <td>12594</td>\n",
       "      <td>10236</td>\n",
       "      <td>8402</td>\n",
       "      <td>8983</td>\n",
       "      <td>7527</td>\n",
       "      <td>6258</td>\n",
       "      <td>4766</td>\n",
       "      <td>4149</td>\n",
       "    </tr>\n",
       "    <tr>\n",
       "      <th>1</th>\n",
       "      <td>158497</td>\n",
       "      <td>145560</td>\n",
       "      <td>25430</td>\n",
       "      <td>20227</td>\n",
       "      <td>15669</td>\n",
       "      <td>12675</td>\n",
       "      <td>10136</td>\n",
       "      <td>8226</td>\n",
       "      <td>9186</td>\n",
       "      <td>7394</td>\n",
       "      <td>6037</td>\n",
       "      <td>4837</td>\n",
       "      <td>3974</td>\n",
       "    </tr>\n",
       "    <tr>\n",
       "      <th>2</th>\n",
       "      <td>161263</td>\n",
       "      <td>148082</td>\n",
       "      <td>25900</td>\n",
       "      <td>19587</td>\n",
       "      <td>15695</td>\n",
       "      <td>12291</td>\n",
       "      <td>10161</td>\n",
       "      <td>8450</td>\n",
       "      <td>9360</td>\n",
       "      <td>7352</td>\n",
       "      <td>6052</td>\n",
       "      <td>4934</td>\n",
       "      <td>4192</td>\n",
       "    </tr>\n",
       "    <tr>\n",
       "      <th>3</th>\n",
       "      <td>157701</td>\n",
       "      <td>149981</td>\n",
       "      <td>25441</td>\n",
       "      <td>19031</td>\n",
       "      <td>15168</td>\n",
       "      <td>12201</td>\n",
       "      <td>10221</td>\n",
       "      <td>8396</td>\n",
       "      <td>9098</td>\n",
       "      <td>7517</td>\n",
       "      <td>5815</td>\n",
       "      <td>4717</td>\n",
       "      <td>4461</td>\n",
       "    </tr>\n",
       "    <tr>\n",
       "      <th>4</th>\n",
       "      <td>160044</td>\n",
       "      <td>152852</td>\n",
       "      <td>25072</td>\n",
       "      <td>19773</td>\n",
       "      <td>15448</td>\n",
       "      <td>12513</td>\n",
       "      <td>10365</td>\n",
       "      <td>8200</td>\n",
       "      <td>9122</td>\n",
       "      <td>7342</td>\n",
       "      <td>5827</td>\n",
       "      <td>4743</td>\n",
       "      <td>4140</td>\n",
       "    </tr>\n",
       "  </tbody>\n",
       "</table>\n",
       "</div>"
      ],
      "text/plain": [
       "   soglia5  soglia10  soglia20  soglia25  soglia30  soglia35  soglia40  \\\n",
       "0   156446    146339     25257     19955     15751     12594     10236   \n",
       "1   158497    145560     25430     20227     15669     12675     10136   \n",
       "2   161263    148082     25900     19587     15695     12291     10161   \n",
       "3   157701    149981     25441     19031     15168     12201     10221   \n",
       "4   160044    152852     25072     19773     15448     12513     10365   \n",
       "\n",
       "   soglia45  soglia50  soglia55  soglia60  soglia65  soglia70  \n",
       "0      8402      8983      7527      6258      4766      4149  \n",
       "1      8226      9186      7394      6037      4837      3974  \n",
       "2      8450      9360      7352      6052      4934      4192  \n",
       "3      8396      9098      7517      5815      4717      4461  \n",
       "4      8200      9122      7342      5827      4743      4140  "
      ]
     },
     "execution_count": 6,
     "metadata": {},
     "output_type": "execute_result"
    }
   ],
   "source": [
    "df_dw"
   ]
  },
  {
   "cell_type": "code",
   "execution_count": 7,
   "id": "1631d537",
   "metadata": {},
   "outputs": [
    {
     "data": {
      "image/png": "[encoded data removed]",
      "text/plain": [
       "<IPython.core.display.Image object>"
      ]
     },
     "metadata": {},
     "output_type": "display_data"
    }
   ],
   "source": [
    "c1 = ROOT.TCanvas(\"\",\"\",800,700)\n",
    "g1 = ROOT.TGraph(len(soglia_dw), array.array(\"f\",soglia_dw), array.array(\"f\", mean_dw))\n",
    "g2 = ROOT.TGraphErrors(len(soglia_dw), array.array(\"f\", soglia_dw), array.array(\"f\", mean_dw),\n",
    "                      array.array(\"f\", err_soglia *13), array.array(\"f\", std_dw))\n",
    "g1.SetMarkerStyle(3)\n",
    "g2.SetTitle(\"rate vs soglia SDW\")\n",
    "g2.GetXaxis().SetTitle(\"soglia (mV) \")\n",
    "g2.GetYaxis().SetTitle(\"rate (s^{-1})\")\n",
    "g2.SetLineColor(1)\n",
    "g2.SetLineStyle(1)\n",
    "g1.Draw(\"AP\")\n",
    "g2.Draw(\"SAMEP\")\n",
    "c1.Draw()"
   ]
  },
  {
   "cell_type": "markdown",
   "id": "ce496b95",
   "metadata": {},
   "source": [
    "Per vedere meglio il tutto, togliamo i primi due punti"
   ]
  },
  {
   "cell_type": "code",
   "execution_count": 8,
   "id": "8037ed33",
   "metadata": {
    "scrolled": false
   },
   "outputs": [
    {
     "data": {
      "image/png": "[encoded data removed]",
      "text/plain": [
       "<IPython.core.display.Image object>"
      ]
     },
     "metadata": {},
     "output_type": "display_data"
    }
   ],
   "source": [
    "c1 = ROOT.TCanvas(\"\",\"\",1000,900)\n",
    "g1 = ROOT.TGraph(len(soglia_dw[2:]), array.array(\"f\",soglia_dw[2:]), array.array(\"f\", mean_dw[2:]))\n",
    "g2 = ROOT.TGraphErrors(len(soglia_dw[2:]), array.array(\"f\", soglia_dw[2:]), array.array(\"f\", mean_dw[2:]),\n",
    "                      array.array(\"f\", err_soglia *11), array.array(\"f\", std_dw[2:]))\n",
    "g3 = ROOT.TGraph(2, array.array(\"f\", [45,45]), array.array(\"f\", [0,mean_dw[soglia_dw.index(45)]]))\n",
    "g4 = ROOT.TGraph(2, array.array(\"f\", [0,45]), array.array(\"f\", [mean_dw[soglia_dw.index(45)]]*2))\n",
    "g1.SetMarkerStyle(3)\n",
    "g2.SetLineColor(1)\n",
    "g2.SetLineStyle(1)\n",
    "g3.SetLineColor(2)\n",
    "g4.SetLineColor(2)\n",
    "g3.SetLineStyle(2)\n",
    "g4.SetLineStyle(2)\n",
    "g2.SetTitle(\"rate vs soglia SDW\")\n",
    "g2.GetXaxis().SetTitle(\"soglia (mV) \")\n",
    "g2.GetYaxis().SetTitle(\"rate (s^{-1})\")\n",
    "g1.Draw(\"AP\")\n",
    "g2.Draw(\"SAMEP\")\n",
    "g3.Draw(\"SAME\")\n",
    "g4.Draw(\"SAME\")\n",
    "c1.Draw()"
   ]
  },
  {
   "cell_type": "markdown",
   "id": "1db96638",
   "metadata": {},
   "source": [
    "## Rate SUP"
   ]
  },
  {
   "cell_type": "code",
   "execution_count": 9,
   "id": "30fd2894",
   "metadata": {},
   "outputs": [],
   "source": [
    "soglia_up =[27,30,35,40,45,50,55,60,65,70]\n",
    "time_up = [20] * len(soglia_up)\n",
    "misura_1 = [25785,16553,8034,4503,3438,2958,2679,2408,2184,1983]\n",
    "misura_2 = [25305,16854,7864,4545,3448,2921,2568,2439,2210,2008]\n",
    "misura_3 = [25089,16718,8067,4591,3352,2962,2721,2430,2279,2017]\n",
    "misura_4 = [24914,16294,7918,4565,3490,2912,2624,2434,2228,2063]\n",
    "misura_5 = [27281,16301,8121,4647,3421,2930,2653,2489,2146,2088]\n",
    "mis_up = [misura_1,misura_2,misura_3,misura_4,misura_5]"
   ]
  },
  {
   "cell_type": "code",
   "execution_count": 10,
   "id": "5d4c2eeb",
   "metadata": {},
   "outputs": [],
   "source": [
    "mean_up, std_up, df_up = misure_frame(mis_up, time_up,soglia_up)"
   ]
  },
  {
   "cell_type": "code",
   "execution_count": 11,
   "id": "7597b06d",
   "metadata": {},
   "outputs": [
    {
     "data": {
      "text/html": [
       "<div>\n",
       "<style scoped>\n",
       "    .dataframe tbody tr th:only-of-type {\n",
       "        vertical-align: middle;\n",
       "    }\n",
       "\n",
       "    .dataframe tbody tr th {\n",
       "        vertical-align: top;\n",
       "    }\n",
       "\n",
       "    .dataframe thead th {\n",
       "        text-align: right;\n",
       "    }\n",
       "</style>\n",
       "<table border=\"1\" class=\"dataframe\">\n",
       "  <thead>\n",
       "    <tr style=\"text-align: right;\">\n",
       "      <th></th>\n",
       "      <th>soglia27</th>\n",
       "      <th>soglia30</th>\n",
       "      <th>soglia35</th>\n",
       "      <th>soglia40</th>\n",
       "      <th>soglia45</th>\n",
       "      <th>soglia50</th>\n",
       "      <th>soglia55</th>\n",
       "      <th>soglia60</th>\n",
       "      <th>soglia65</th>\n",
       "      <th>soglia70</th>\n",
       "    </tr>\n",
       "  </thead>\n",
       "  <tbody>\n",
       "    <tr>\n",
       "      <th>0</th>\n",
       "      <td>25785</td>\n",
       "      <td>16553</td>\n",
       "      <td>8034</td>\n",
       "      <td>4503</td>\n",
       "      <td>3438</td>\n",
       "      <td>2958</td>\n",
       "      <td>2679</td>\n",
       "      <td>2408</td>\n",
       "      <td>2184</td>\n",
       "      <td>1983</td>\n",
       "    </tr>\n",
       "    <tr>\n",
       "      <th>1</th>\n",
       "      <td>25305</td>\n",
       "      <td>16854</td>\n",
       "      <td>7864</td>\n",
       "      <td>4545</td>\n",
       "      <td>3448</td>\n",
       "      <td>2921</td>\n",
       "      <td>2568</td>\n",
       "      <td>2439</td>\n",
       "      <td>2210</td>\n",
       "      <td>2008</td>\n",
       "    </tr>\n",
       "    <tr>\n",
       "      <th>2</th>\n",
       "      <td>25089</td>\n",
       "      <td>16718</td>\n",
       "      <td>8067</td>\n",
       "      <td>4591</td>\n",
       "      <td>3352</td>\n",
       "      <td>2962</td>\n",
       "      <td>2721</td>\n",
       "      <td>2430</td>\n",
       "      <td>2279</td>\n",
       "      <td>2017</td>\n",
       "    </tr>\n",
       "    <tr>\n",
       "      <th>3</th>\n",
       "      <td>24914</td>\n",
       "      <td>16294</td>\n",
       "      <td>7918</td>\n",
       "      <td>4565</td>\n",
       "      <td>3490</td>\n",
       "      <td>2912</td>\n",
       "      <td>2624</td>\n",
       "      <td>2434</td>\n",
       "      <td>2228</td>\n",
       "      <td>2063</td>\n",
       "    </tr>\n",
       "    <tr>\n",
       "      <th>4</th>\n",
       "      <td>27281</td>\n",
       "      <td>16301</td>\n",
       "      <td>8121</td>\n",
       "      <td>4647</td>\n",
       "      <td>3421</td>\n",
       "      <td>2930</td>\n",
       "      <td>2653</td>\n",
       "      <td>2489</td>\n",
       "      <td>2146</td>\n",
       "      <td>2088</td>\n",
       "    </tr>\n",
       "  </tbody>\n",
       "</table>\n",
       "</div>"
      ],
      "text/plain": [
       "   soglia27  soglia30  soglia35  soglia40  soglia45  soglia50  soglia55  \\\n",
       "0     25785     16553      8034      4503      3438      2958      2679   \n",
       "1     25305     16854      7864      4545      3448      2921      2568   \n",
       "2     25089     16718      8067      4591      3352      2962      2721   \n",
       "3     24914     16294      7918      4565      3490      2912      2624   \n",
       "4     27281     16301      8121      4647      3421      2930      2653   \n",
       "\n",
       "   soglia60  soglia65  soglia70  \n",
       "0      2408      2184      1983  \n",
       "1      2439      2210      2008  \n",
       "2      2430      2279      2017  \n",
       "3      2434      2228      2063  \n",
       "4      2489      2146      2088  "
      ]
     },
     "execution_count": 11,
     "metadata": {},
     "output_type": "execute_result"
    }
   ],
   "source": [
    "df_up"
   ]
  },
  {
   "cell_type": "code",
   "execution_count": 12,
   "id": "c627db5f",
   "metadata": {},
   "outputs": [
    {
     "data": {
      "image/png": "[encoded data removed]",
      "text/plain": [
       "<IPython.core.display.Image object>"
      ]
     },
     "metadata": {},
     "output_type": "display_data"
    }
   ],
   "source": [
    "c1 = ROOT.TCanvas(\"\",\"\",800,700)\n",
    "g1 = ROOT.TGraph(len(soglia_up), array.array(\"f\",soglia_up), array.array(\"f\", mean_up))\n",
    "g2 = ROOT.TGraphErrors(len(soglia_up), array.array(\"f\", soglia_up), array.array(\"f\", mean_up),\n",
    "                      array.array(\"f\", err_soglia *len(soglia_up)), array.array(\"f\", std_up))\n",
    "g1.SetMarkerStyle(2)\n",
    "g2.SetTitle(\"rate vs soglia SUP\")\n",
    "g2.GetXaxis().SetTitle(\"soglia (mV) \")\n",
    "g2.GetYaxis().SetTitle(\"rate (s^{-1})\")\n",
    "g2.SetLineColor(1)\n",
    "g2.SetLineStyle(1)\n",
    "g1.Draw(\"AP\")\n",
    "g2.Draw(\"SAMEP\")\n",
    "c1.Draw()"
   ]
  },
  {
   "cell_type": "code",
   "execution_count": 13,
   "id": "4f896881",
   "metadata": {},
   "outputs": [
    {
     "data": {
      "image/png": "[encoded data removed]",
      "text/plain": [
       "<IPython.core.display.Image object>"
      ]
     },
     "metadata": {},
     "output_type": "display_data"
    }
   ],
   "source": [
    "c1 = ROOT.TCanvas(\"\",\"\",800,700)\n",
    "g1 = ROOT.TGraph(len(soglia_up[1:]), array.array(\"f\",soglia_up[1:]), array.array(\"f\", mean_up[1:]))\n",
    "g2 = ROOT.TGraphErrors(len(soglia_up[1:]), array.array(\"f\", soglia_up[1:]), array.array(\"f\", mean_up[1:]),\n",
    "                      array.array(\"f\", err_soglia *len(soglia_up[1:])), array.array(\"f\", std_up[1:]))\n",
    "g3 = ROOT.TGraph(2, array.array(\"f\", [40,40]), array.array(\"f\", [0,mean_up[soglia_up.index(40)]]))\n",
    "g4 = ROOT.TGraph(2, array.array(\"f\", [0,40]), array.array(\"f\", [mean_up[soglia_up.index(40)]]*2))\n",
    "g1.SetMarkerStyle(4)\n",
    "g3.SetLineColor(2)\n",
    "g4.SetLineColor(2)\n",
    "g3.SetLineStyle(2)\n",
    "g4.SetLineStyle(2)\n",
    "g2.SetTitle(\"rate vs soglia SUP\")\n",
    "g2.GetXaxis().SetTitle(\"soglia (mV) \")\n",
    "g2.GetYaxis().SetTitle(\"rate (s^{-1})\")\n",
    "g2.SetLineColor(1)\n",
    "g2.SetLineStyle(1)\n",
    "g1.Draw(\"AP\")\n",
    "g2.Draw(\"SAMEP\")\n",
    "g3.Draw(\"SAME\")\n",
    "g4.Draw(\"SAME\")\n",
    "c1.Draw()"
   ]
  },
  {
   "cell_type": "markdown",
   "id": "dce95bd7",
   "metadata": {},
   "source": [
    "## Rate CsI"
   ]
  },
  {
   "cell_type": "code",
   "execution_count": 12,
   "id": "3d58f77a",
   "metadata": {},
   "outputs": [],
   "source": [
    "soglia_cs =[5,10,15,20,25,30,35,40,45,50,55,60,65]\n",
    "time_cs = [20,20,35,45,55,65,75,85,95,110,110,120,120]\n",
    "misura_1 = [2472,311,269,284,349,338,378,421,474,494,461,500,465]\n",
    "misura_2 = [2476,324,300,282,319,390,429,444,492,529,454,521,474]\n",
    "misura_3 = [2317,290,307,283,331,382,381,423,480,536,474,471,467]\n",
    "mis_cs = [misura_1,misura_2,misura_3]"
   ]
  },
  {
   "cell_type": "code",
   "execution_count": 13,
   "id": "616987d0",
   "metadata": {},
   "outputs": [],
   "source": [
    "mean_cs, std_cs, df_cs = misure_frame(mis_cs, time_cs,soglia_cs)"
   ]
  },
  {
   "cell_type": "code",
   "execution_count": 14,
   "id": "daf8d746",
   "metadata": {},
   "outputs": [
    {
     "data": {
      "text/html": [
       "<div>\n",
       "<style scoped>\n",
       "    .dataframe tbody tr th:only-of-type {\n",
       "        vertical-align: middle;\n",
       "    }\n",
       "\n",
       "    .dataframe tbody tr th {\n",
       "        vertical-align: top;\n",
       "    }\n",
       "\n",
       "    .dataframe thead th {\n",
       "        text-align: right;\n",
       "    }\n",
       "</style>\n",
       "<table border=\"1\" class=\"dataframe\">\n",
       "  <thead>\n",
       "    <tr style=\"text-align: right;\">\n",
       "      <th></th>\n",
       "      <th>soglia5</th>\n",
       "      <th>soglia10</th>\n",
       "      <th>soglia15</th>\n",
       "      <th>soglia20</th>\n",
       "      <th>soglia25</th>\n",
       "      <th>soglia30</th>\n",
       "      <th>soglia35</th>\n",
       "      <th>soglia40</th>\n",
       "      <th>soglia45</th>\n",
       "      <th>soglia50</th>\n",
       "      <th>soglia55</th>\n",
       "      <th>soglia60</th>\n",
       "      <th>soglia65</th>\n",
       "    </tr>\n",
       "  </thead>\n",
       "  <tbody>\n",
       "    <tr>\n",
       "      <th>0</th>\n",
       "      <td>2472</td>\n",
       "      <td>311</td>\n",
       "      <td>269</td>\n",
       "      <td>284</td>\n",
       "      <td>349</td>\n",
       "      <td>338</td>\n",
       "      <td>378</td>\n",
       "      <td>421</td>\n",
       "      <td>474</td>\n",
       "      <td>494</td>\n",
       "      <td>461</td>\n",
       "      <td>500</td>\n",
       "      <td>465</td>\n",
       "    </tr>\n",
       "    <tr>\n",
       "      <th>1</th>\n",
       "      <td>2476</td>\n",
       "      <td>324</td>\n",
       "      <td>300</td>\n",
       "      <td>282</td>\n",
       "      <td>319</td>\n",
       "      <td>390</td>\n",
       "      <td>429</td>\n",
       "      <td>444</td>\n",
       "      <td>492</td>\n",
       "      <td>529</td>\n",
       "      <td>454</td>\n",
       "      <td>521</td>\n",
       "      <td>474</td>\n",
       "    </tr>\n",
       "    <tr>\n",
       "      <th>2</th>\n",
       "      <td>2317</td>\n",
       "      <td>290</td>\n",
       "      <td>307</td>\n",
       "      <td>283</td>\n",
       "      <td>331</td>\n",
       "      <td>382</td>\n",
       "      <td>381</td>\n",
       "      <td>423</td>\n",
       "      <td>480</td>\n",
       "      <td>536</td>\n",
       "      <td>474</td>\n",
       "      <td>471</td>\n",
       "      <td>467</td>\n",
       "    </tr>\n",
       "  </tbody>\n",
       "</table>\n",
       "</div>"
      ],
      "text/plain": [
       "   soglia5  soglia10  soglia15  soglia20  soglia25  soglia30  soglia35  \\\n",
       "0     2472       311       269       284       349       338       378   \n",
       "1     2476       324       300       282       319       390       429   \n",
       "2     2317       290       307       283       331       382       381   \n",
       "\n",
       "   soglia40  soglia45  soglia50  soglia55  soglia60  soglia65  \n",
       "0       421       474       494       461       500       465  \n",
       "1       444       492       529       454       521       474  \n",
       "2       423       480       536       474       471       467  "
      ]
     },
     "execution_count": 14,
     "metadata": {},
     "output_type": "execute_result"
    }
   ],
   "source": [
    "df_cs"
   ]
  },
  {
   "cell_type": "code",
   "execution_count": 15,
   "id": "f5bd6c77",
   "metadata": {},
   "outputs": [
    {
     "data": {
      "image/png": "[encoded data removed]",
      "text/plain": [
       "<IPython.core.display.Image object>"
      ]
     },
     "metadata": {},
     "output_type": "display_data"
    }
   ],
   "source": [
    "c1 = ROOT.TCanvas(\"\",\"\",800,700)\n",
    "g1 = ROOT.TGraph(len(soglia_cs), array.array(\"f\",soglia_cs), array.array(\"f\", mean_cs))\n",
    "g2 = ROOT.TGraphErrors(len(soglia_cs), array.array(\"f\", soglia_cs), array.array(\"f\", mean_cs),\n",
    "                      array.array(\"f\", err_soglia *len(soglia_cs)), array.array(\"f\", std_cs))\n",
    "g1.SetMarkerStyle(4)\n",
    "g2.SetTitle(\"rate vs soglia CsI\")\n",
    "g2.GetXaxis().SetTitle(\"soglia (mV) \")\n",
    "g2.GetYaxis().SetTitle(\"rate (s^{-1})\")\n",
    "g2.SetLineColor(1)\n",
    "g2.SetLineStyle(1)\n",
    "g1.Draw(\"AP\")\n",
    "g2.Draw(\"SAMEP\")\n",
    "c1.Draw()"
   ]
  },
  {
   "cell_type": "code",
   "execution_count": 16,
   "id": "d349726d",
   "metadata": {},
   "outputs": [
    {
     "data": {
      "image/png": "[encoded data removed]",
      "text/plain": [
       "<IPython.core.display.Image object>"
      ]
     },
     "metadata": {},
     "output_type": "display_data"
    }
   ],
   "source": [
    "c1 = ROOT.TCanvas(\"\",\"\",800,700)\n",
    "g1 = ROOT.TGraph(len(soglia_cs[1:]), array.array(\"f\",soglia_cs[1:]), array.array(\"f\", mean_cs[1:]))\n",
    "g2 = ROOT.TGraphErrors(len(soglia_cs[1:]), array.array(\"f\", soglia_cs[1:]), array.array(\"f\", mean_cs[1:]),\n",
    "                      array.array(\"f\", err_soglia *len(soglia_cs[1:])), array.array(\"f\", std_cs[1:]))\n",
    "g3 = ROOT.TGraph(2, array.array(\"f\", [35,35]), array.array(\"f\", [0,mean_cs[soglia_cs.index(35)]]))\n",
    "g4 = ROOT.TGraph(2, array.array(\"f\", [0,35]), array.array(\"f\", [mean_cs[soglia_cs.index(35)]]*2))\n",
    "g1.SetMarkerStyle(4)\n",
    "g3.SetLineColor(2)\n",
    "g4.SetLineColor(2)\n",
    "g3.SetLineStyle(2)\n",
    "g4.SetLineStyle(2)\n",
    "g2.SetTitle(\"rate vs soglia CsI\")\n",
    "g2.GetXaxis().SetTitle(\"soglia (mV) \")\n",
    "g2.GetYaxis().SetTitle(\"rate (s^{-1})\")\n",
    "g2.SetLineColor(1)\n",
    "g2.SetLineStyle(1)\n",
    "g1.Draw(\"AP\")\n",
    "g2.Draw(\"SAMEP\")\n",
    "g3.Draw(\"SAME\")\n",
    "g4.Draw(\"SAME\")\n",
    "c1.Draw()"
   ]
  },
  {
   "cell_type": "markdown",
   "id": "6b63d57e",
   "metadata": {},
   "source": [
    "## Curve di Plateau\n"
   ]
  },
  {
   "cell_type": "markdown",
   "id": "2e1dd7b3",
   "metadata": {},
   "source": [
    "### Coincidenza SDW e CsI \n",
    "In questo caso abbiamo fissato\n",
    "$V_{CsI} = 1200 V$\n",
    "e misurato la coincidenza con lo scintillatore Down al variare della tensione su di esso. \n"
   ]
  },
  {
   "cell_type": "code",
   "execution_count": 22,
   "id": "62372668",
   "metadata": {},
   "outputs": [
    {
     "name": "stdout",
     "output_type": "stream",
     "text": [
      "[2.44  2.45  2.454 2.458 2.462 2.466 2.47  2.474 2.478 2.482 2.486 2.49\n",
      " 2.494 2.498]\n"
     ]
    }
   ],
   "source": [
    "V_dw = [2200,2250,2270,2290,2310,2330,2350,2370,2390,2410,2430,2450,2470,2490]\n",
    "V_dw_err = 0.02* np.array(V_dw)/100 + 2 #errore è 0.02% del valore settato + 2V\n",
    "time_dw = [400,400,350,340,330,310,290,290,280,280,280,280,280,270]\n",
    "dw_et_cs = [563,863,814,878,895,867,740,801,822,807,802,840,826,813]\n",
    "print(V_dw_err)"
   ]
  },
  {
   "cell_type": "code",
   "execution_count": 23,
   "id": "69ec7d6c",
   "metadata": {},
   "outputs": [],
   "source": [
    "rate_dw  = np.array(dw_et_cs)/np.array(time_dw)\n",
    "err_rate_dw = np.sqrt(dw_et_cs)/np.array(time_dw)"
   ]
  },
  {
   "cell_type": "code",
   "execution_count": 28,
   "id": "cb1c21c9",
   "metadata": {},
   "outputs": [
    {
     "data": {
      "image/png": "[encoded data removed]",
      "text/plain": [
       "<IPython.core.display.Image object>"
      ]
     },
     "metadata": {},
     "output_type": "display_data"
    }
   ],
   "source": [
    "c1 = ROOT.TCanvas(\"\",\"\",800,700)\n",
    "g1 = ROOT.TGraph(len(V_dw), array.array(\"f\",V_dw), array.array(\"f\", rate_dw))\n",
    "g2 = ROOT.TGraphErrors(len(V_dw), array.array(\"f\", V_dw), array.array(\"f\", rate_dw),\n",
    "                      array.array(\"f\", V_dw_err), array.array(\"f\", err_rate_dw))\n",
    "g3 = ROOT.TGraph(2, array.array(\"f\", [2290,2290]), array.array(\"f\", [0,rate_dw[V_dw.index(2290)]]))\n",
    "g4 = ROOT.TGraph(2, array.array(\"f\", [0,2290]), array.array(\"f\", [rate_dw[V_dw.index(2290)]]*2))\n",
    "g2.SetMarkerStyle(2)\n",
    "g3.SetLineColor(2)\n",
    "g3.SetLineStyle(2)\n",
    "g4.SetLineStyle(2)\n",
    "g4.SetLineColor(2)\n",
    "g2.SetTitle(\"rate vs tensione DW\")\n",
    "g2.GetXaxis().SetTitle(\"V_{DW} (V) \")\n",
    "g2.GetYaxis().SetTitle(\"rate (s^{-1})\")\n",
    "g2.SetLineColor(1)\n",
    "g2.SetLineStyle(1)\n",
    "g1.Draw(\"AP\")\n",
    "g2.Draw(\"SAMEP\")\n",
    "g3.Draw(\"SAME\")\n",
    "g4.Draw(\"SAME\")\n",
    "c1.Draw()"
   ]
  },
  {
   "cell_type": "markdown",
   "id": "eff3449c",
   "metadata": {},
   "source": [
    "### Coincidenza SDW e SUP \n",
    "In questo caso abbiamo fissato\n",
    "$V_{SDW} = 2290V$\n",
    "Messo un ritardo di $220 ns$ tra up e dw \n",
    "e misurato la coincidenza con lo scintillatore Up al variare della tensione su di esso. \n",
    "Contemporaneamente abbiamo fatto la stessa cosa usando il TDC"
   ]
  },
  {
   "cell_type": "code",
   "execution_count": 29,
   "id": "8ec4e4e9",
   "metadata": {},
   "outputs": [],
   "source": [
    "V_up = [2000,2050,2100,2150,2200,2250,2275,2300,2350,2400]\n",
    "V_up_err = 0.02*np.array(V_up)/100 + 2\n",
    "time_up = np.array([400,400,380,350,300,260,250,240,200,100])\n",
    "up_et_dw = np.array([323,874,1482,1876,1770,1671,1693,1757,2283,1145])\n",
    "single_up = np.array([1219,3930,11250,20268,29173,43442,59562,146107,487753,336689])\n",
    "single_dw = np.array([357330,356796,388742,363695,308106,273048,243383,250170,234702,95917])"
   ]
  },
  {
   "cell_type": "code",
   "execution_count": 30,
   "id": "3ea81a10",
   "metadata": {},
   "outputs": [],
   "source": [
    "rate_up = up_et_dw/time_up\n",
    "err_rate_up = np.sqrt(up_et_dw)/time_up"
   ]
  },
  {
   "cell_type": "code",
   "execution_count": 31,
   "id": "d89f8b00",
   "metadata": {},
   "outputs": [
    {
     "data": {
      "image/png": "[encoded data removed]",
      "text/plain": [
       "<IPython.core.display.Image object>"
      ]
     },
     "metadata": {},
     "output_type": "display_data"
    }
   ],
   "source": [
    "c1 = ROOT.TCanvas(\"\",\"\",800,700)\n",
    "g1 = ROOT.TGraph(len(V_up), array.array(\"f\",V_up), array.array(\"f\", rate_up))\n",
    "g2 = ROOT.TGraphErrors(len(V_up), array.array(\"f\", V_up), array.array(\"f\", rate_up),\n",
    "                      array.array(\"f\", V_up_err), array.array(\"f\", err_rate_up))\n",
    "g3 = ROOT.TGraph(2, array.array(\"f\", [2275,2275]), array.array(\"f\", [0,rate_up[V_up.index(2275)]]))\n",
    "g4 = ROOT.TGraph(2, array.array(\"f\", [0,2275]), array.array(\"f\", [rate_up[V_up.index(2275)]]*2))\n",
    "g2.SetMarkerStyle(2)\n",
    "g3.SetLineColor(2)\n",
    "g3.SetLineStyle(2)\n",
    "g4.SetLineStyle(2)\n",
    "g4.SetLineColor(2)\n",
    "g2.SetTitle(\"rate vs tensione UP\")\n",
    "g2.GetXaxis().SetTitle(\"V_{UP} (V) \")\n",
    "g2.GetYaxis().SetTitle(\"rate (s^{-1})\")\n",
    "g2.SetLineColor(1)\n",
    "g2.SetLineStyle(1)\n",
    "g1.Draw(\"AP\")\n",
    "g2.Draw(\"SAMEP\")\n",
    "g3.Draw(\"SAME\")\n",
    "g4.Draw(\"SAME\")\n",
    "c1.Draw()"
   ]
  },
  {
   "cell_type": "markdown",
   "id": "1c859920",
   "metadata": {},
   "source": [
    "Vogliamo adesso considerare anche le casuali con la formula\n",
    "$N_1 N_2 (T_1+T_2)$ dove $N_1$ e $N_2$ sono i rate delle singole mentre $T_1$e $T_2$ sono le durate dei segnali che valgono rispettivamente per l'up e il down $430 ns$ e $200 ns$"
   ]
  },
  {
   "cell_type": "code",
   "execution_count": 32,
   "id": "0a4e16ba",
   "metadata": {},
   "outputs": [],
   "source": [
    "t_up,t_dw = 430*10**(-9), 540*10**(-9)\n",
    "single_rate_up = single_up/time_up\n",
    "single_rate_dw = single_dw/time_up\n",
    "casuali_up_dw = single_rate_up * single_rate_dw * (t_up + t_dw) *time_up"
   ]
  },
  {
   "cell_type": "code",
   "execution_count": 33,
   "id": "60aa1a5a",
   "metadata": {},
   "outputs": [
    {
     "name": "stdout",
     "output_type": "stream",
     "text": [
      "[  1.05629428   3.40035508  11.16354493  20.42922615  29.06241683\n",
      "  44.25345646  56.24594759 147.7293356  555.21153234 313.25372849]\n",
      "[17.97220076 29.563491   38.49675311 43.31281566 42.07136794 40.87786687\n",
      " 41.14608122 41.91658383 47.78074926 33.83784863]\n"
     ]
    }
   ],
   "source": [
    "rate_corr = (up_et_dw - casuali_up_dw)/time_up\n",
    "print(casuali_up_dw)\n",
    "#print(single_rate_up)\n",
    "print(np.sqrt(up_et_dw))"
   ]
  },
  {
   "cell_type": "code",
   "execution_count": 34,
   "id": "4bc0f7f3",
   "metadata": {},
   "outputs": [
    {
     "name": "stdout",
     "output_type": "stream",
     "text": [
      "[0.80485926 2.17649911 3.87062225 5.30163078 5.80312528 6.25671748\n",
      " 6.54701621 6.70529443 8.63894234 8.31746272]\n",
      "[ 0.8075      2.185       3.9         5.36        5.9         6.42692308\n",
      "  6.772       7.32083333 11.415      11.45      ]\n"
     ]
    }
   ],
   "source": [
    "print(rate_corr)\n",
    "print(rate_up)"
   ]
  },
  {
   "cell_type": "code",
   "execution_count": 35,
   "id": "3ea647f5",
   "metadata": {},
   "outputs": [
    {
     "data": {
      "image/png": "[encoded data removed]",
      "text/plain": [
       "<IPython.core.display.Image object>"
      ]
     },
     "metadata": {},
     "output_type": "display_data"
    }
   ],
   "source": [
    "c1 = ROOT.TCanvas(\"\",\"\",800,700)\n",
    "g1 = ROOT.TGraph(len(V_up), array.array(\"f\",V_up), array.array(\"f\", rate_corr))\n",
    "#g2 = ROOT.TGraphErrors(len(V_up), array.array(\"f\", V_up), array.array(\"f\", rate_corr),\n",
    " #                     array.array(\"f\", [0]*len(rate_up)), array.array(\"f\", err_rate_up))\n",
    "g3 = ROOT.TGraph(2, array.array(\"f\", [2275,2275]), array.array(\"f\", [0,rate_up[V_up.index(2275)]]))\n",
    "g4 = ROOT.TGraph(2, array.array(\"f\", [0,2275]), array.array(\"f\", [rate_up[V_up.index(2275)]]*2))\n",
    "g2.SetMarkerStyle(2)\n",
    "g1.SetMarkerStyle(2)\n",
    "g3.SetLineStyle(2)\n",
    "g4.SetLineStyle(2)\n",
    "g4.SetLineColor(2)\n",
    "g2.SetTitle(\"rate vs tensione UP\")\n",
    "g2.GetXaxis().SetTitle(\"V_{UP} (V) \")\n",
    "g2.GetYaxis().SetTitle(\"rate (s^{-1})\")\n",
    "g2.SetLineColor(1)\n",
    "g2.SetLineStyle(1)\n",
    "g1.Draw(\"AP\")\n",
    "#g2.Draw(\"SAMEAP\")\n",
    "g3.Draw(\"SAME\")\n",
    "g4.Draw(\"SAME\")\n",
    "c1.Draw()"
   ]
  },
  {
   "cell_type": "markdown",
   "id": "2373f5cf",
   "metadata": {},
   "source": [
    "## Coincidenze SDW e CsI\n",
    "Per il Dw abbiamo considerato la tensione fissata prima e abbiamo misurato le coincidenze e le singole"
   ]
  },
  {
   "cell_type": "code",
   "execution_count": 36,
   "id": "385a663b",
   "metadata": {},
   "outputs": [],
   "source": [
    "V_cs_1 = [950,1000,1050,1100,1100,1125,1150,1150,1150,1175,1175,1200,1200,1225,1250,1275]\n",
    "time_cs_1 = [280,270,270,240,240,230,230,220,230,210,210,200,200,200,200,200]\n",
    "cs_et_dw_1 = [142,408,501,506,520,515,528,482,547,467,466,493,507,480,457,519]\n",
    "single_cs_1 = [312,699,930,1008,1013,1090,1127,1094,1167,1094,1069,1197,1200,1262,1294,1545]\n",
    "single_dw_1 = [135872,131391,131203,116145,132449,130753,124922,131066,136192,121621,122752,\n",
    "             116556,118308,118178,116314,115466]"
   ]
  },
  {
   "cell_type": "code",
   "execution_count": 37,
   "id": "02760999",
   "metadata": {},
   "outputs": [],
   "source": [
    "V_cs = []\n",
    "time_cs = []\n",
    "cs_et_dw = []\n",
    "single_cs = []\n",
    "single_dw = []\n",
    "for i in range(len(V_cs_1)):\n",
    "    #print(i)\n",
    "    V_el = V_cs_1[i]\n",
    "    #print(i,V_el)\n",
    "    if V_el not in V_cs:\n",
    "        V_cs.append(V_el)\n",
    "        time_cs.append(time_cs_1[i])\n",
    "        cs_et_dw.append(cs_et_dw_1[i])\n",
    "        single_cs.append(single_cs_1[i])\n",
    "        single_dw.append(single_dw_1[i])\n",
    "    elif V_el in V_cs and time_cs_1[i] == time_cs_1[V_cs_1.index(V_el)] and i != 0:\n",
    "        #print(\"Elif\")\n",
    "        mean_coinc = (cs_et_dw[-1] + cs_et_dw_1[i])/2\n",
    "        mean_dw = (single_dw[-1] + single_dw_1[i])/2\n",
    "        mean_cs = (single_cs[-1] + single_cs_1[i])/2\n",
    "        cs_et_dw[-1] = mean_coinc\n",
    "        single_cs[-1] = mean_cs\n",
    "        single_dw[-1] = mean_dw\n",
    "        \n",
    "#print(V_cs)\n",
    "#print(cs_et_dw)   \n",
    "        "
   ]
  },
  {
   "cell_type": "code",
   "execution_count": 38,
   "id": "1788e3d6",
   "metadata": {},
   "outputs": [
    {
     "name": "stdout",
     "output_type": "stream",
     "text": [
      "[280, 270, 270, 240, 230, 230, 210, 200, 200, 200, 200]\n",
      "[950, 1000, 1050, 1100, 1125, 1150, 1175, 1200, 1225, 1250, 1275]\n",
      "[135872, 131391, 131203, 124297.0, 130753, 130557.0, 122186.5, 117432.0, 118178, 116314, 115466]\n"
     ]
    }
   ],
   "source": [
    "print(time_cs)\n",
    "print(V_cs)\n",
    "V_cs_err = 0.02*np.array(V_cs)/100 + 2\n",
    "print(single_dw)"
   ]
  },
  {
   "cell_type": "code",
   "execution_count": 39,
   "id": "f53deb38",
   "metadata": {},
   "outputs": [],
   "source": [
    "rate_cs = np.array(cs_et_dw)/np.array(time_cs)\n",
    "err_rate_cs = np.sqrt(cs_et_dw)/np.array(time_cs)"
   ]
  },
  {
   "cell_type": "code",
   "execution_count": 40,
   "id": "9de93701",
   "metadata": {},
   "outputs": [
    {
     "data": {
      "image/png": "[encoded data removed]",
      "text/plain": [
       "<IPython.core.display.Image object>"
      ]
     },
     "metadata": {},
     "output_type": "display_data"
    }
   ],
   "source": [
    "c1 = ROOT.TCanvas(\"\",\"\",800,700)\n",
    "g1 = ROOT.TGraph(len(V_cs), array.array(\"f\",V_cs), array.array(\"f\", rate_cs))\n",
    "g2 = ROOT.TGraphErrors(len(V_cs), array.array(\"f\", V_cs), array.array(\"f\", rate_cs),\n",
    "                      array.array(\"f\", V_cs_err), array.array(\"f\", err_rate_cs))\n",
    "g3 = ROOT.TGraph(2, array.array(\"f\", [1225,1225]), array.array(\"f\", [0,rate_cs[V_cs.index(1225)]]))\n",
    "g4 = ROOT.TGraph(2, array.array(\"f\", [0,1225]), array.array(\"f\", [rate_cs[V_cs.index(1225)]]*2))\n",
    "g2.SetMarkerStyle(4)\n",
    "g3.SetLineColor(2)\n",
    "g3.SetLineStyle(2)\n",
    "g4.SetLineStyle(2)\n",
    "g4.SetLineColor(2)\n",
    "g2.SetTitle(\"rate vs tensione CsI\")\n",
    "g2.GetXaxis().SetTitle(\"V_{CsI} (V) \")\n",
    "g2.GetYaxis().SetTitle(\"rate (s^{-1})\")\n",
    "g2.SetLineColor(1)\n",
    "g2.SetLineStyle(1)\n",
    "g1.Draw(\"AP\")\n",
    "g2.Draw(\"SAMEAP\")\n",
    "g3.Draw(\"SAME\")\n",
    "g4.Draw(\"SAME\")\n",
    "c1.Draw()"
   ]
  },
  {
   "cell_type": "code",
   "execution_count": 41,
   "id": "6fff242c",
   "metadata": {},
   "outputs": [],
   "source": [
    "t_cs,t_dw = 272*10**(-9), 344*10**(-9)\n",
    "single_rate_cs = np.array(single_cs)/np.array(time_cs)\n",
    "single_rate_dw = np.array(single_dw)/np.array(time_cs)\n",
    "casuali_cs_dw = np.array(single_rate_cs) * np.array(single_rate_dw) * (t_cs + t_dw) *np.array(time_cs)"
   ]
  },
  {
   "cell_type": "code",
   "execution_count": 42,
   "id": "974c3994",
   "metadata": {},
   "outputs": [
    {
     "name": "stdout",
     "output_type": "stream",
     "text": [
      "[0.09326254 0.20953653 0.27838361 0.32237877 0.3817078  0.40106656\n",
      " 0.38762445 0.43348614 0.45935316 0.46357177 0.54945651]\n",
      "[11.91637529 20.19900988 22.38302929 22.64950331 22.69361144 23.18404624\n",
      " 21.59861107 22.36067977 21.9089023  21.37755833 22.7815715 ]\n"
     ]
    }
   ],
   "source": [
    "print(casuali_cs_dw)\n",
    "\n",
    "print(np.sqrt(cs_et_dw))"
   ]
  },
  {
   "cell_type": "code",
   "execution_count": 43,
   "id": "f7e449d7",
   "metadata": {},
   "outputs": [
    {
     "name": "stdout",
     "output_type": "stream",
     "text": [
      "[1.11428571 2.58888889 3.44444444 4.21041667 4.73913043 4.98695652\n",
      " 5.15       5.9925     6.31       6.47       7.725     ]\n",
      "[485.25714286 486.63333333 485.93703704 517.90416667 568.49130435\n",
      " 567.63913043 581.84047619 587.16       590.89       581.57\n",
      " 577.33      ]\n",
      "[280, 270, 270, 240, 230, 230, 210, 200, 200, 200, 200]\n"
     ]
    }
   ],
   "source": [
    "print(single_rate_cs)\n",
    "print(single_rate_dw)\n",
    "print(time_cs)\n"
   ]
  },
  {
   "cell_type": "code",
   "execution_count": null,
   "id": "29d7708a",
   "metadata": {},
   "outputs": [],
   "source": []
  },
  {
   "cell_type": "code",
   "execution_count": null,
   "id": "a5b0c5da",
   "metadata": {},
   "outputs": [],
   "source": []
  }
 ],
 "metadata": {
  "kernelspec": {
   "display_name": "Python 3",
   "language": "python",
   "name": "python3"
  },
  "language_info": {
   "codemirror_mode": {
    "name": "ipython",
    "version": 3
   },
   "file_extension": ".py",
   "mimetype": "text/x-python",
   "name": "python",
   "nbconvert_exporter": "python",
   "pygments_lexer": "ipython3",
   "version": "3.10.6"
  }
 },
 "nbformat": 4,
 "nbformat_minor": 5
}
